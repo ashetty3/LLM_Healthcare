{
  "nbformat": 4,
  "nbformat_minor": 0,
  "metadata": {
    "colab": {
      "provenance": []
    },
    "kernelspec": {
      "name": "python3",
      "display_name": "Python 3"
    },
    "language_info": {
      "name": "python"
    }
  },
  "cells": [
    {
      "cell_type": "markdown",
      "source": [
        "# Git"
      ],
      "metadata": {
        "id": "IdA-es4vvi8c"
      }
    },
    {
      "cell_type": "code",
      "source": [
        "from google.colab import drive\n",
        "drive.mount('/content/drive/')"
      ],
      "metadata": {
        "colab": {
          "base_uri": "https://localhost:8080/"
        },
        "id": "JBjMgA7ivhF7",
        "outputId": "d4088aba-0532-4b97-8455-abfdca2bf9f3"
      },
      "execution_count": 1,
      "outputs": [
        {
          "output_type": "stream",
          "name": "stdout",
          "text": [
            "Mounted at /content/drive/\n"
          ]
        }
      ]
    },
    {
      "cell_type": "code",
      "source": [
        "%%bash\n",
        "# run below in terminal\n",
        "eval `ssh-agent -s`\n",
        "ssh-add /content/drive/MyDrive/github/colab\n",
        "ssh -T git@github.com -y\n",
        "git config --global user.email \"haogeh@andrew.cmu.edu\"\n",
        "git config --global user.name \"haogeh\""
      ],
      "metadata": {
        "id": "-Qv5y5cxv5p-",
        "colab": {
          "base_uri": "https://localhost:8080/"
        },
        "outputId": "1fe39390-d170-4353-d8e9-0b26c03f1f56"
      },
      "execution_count": 2,
      "outputs": [
        {
          "output_type": "stream",
          "name": "stdout",
          "text": [
            "Agent pid 745\n"
          ]
        },
        {
          "output_type": "stream",
          "name": "stderr",
          "text": [
            "Identity added: /content/drive/MyDrive/github/colab (haogeh@andrew.cmu.edu)\n"
          ]
        }
      ]
    },
    {
      "cell_type": "code",
      "source": [
        "!cd /content/drive/MyDrive/Colab_Notebooks/90835/LLM_Healthcare"
      ],
      "metadata": {
        "id": "p-zz5wHBwBpM"
      },
      "execution_count": 5,
      "outputs": []
    },
    {
      "cell_type": "markdown",
      "source": [
        "# Setup"
      ],
      "metadata": {
        "id": "-T-XcTCQWZGX"
      }
    },
    {
      "cell_type": "code",
      "execution_count": 6,
      "metadata": {
        "colab": {
          "base_uri": "https://localhost:8080/"
        },
        "id": "P0pfkKTsVhaK",
        "outputId": "5412973e-7e89-4154-8f35-d1b5407a48c4"
      },
      "outputs": [
        {
          "output_type": "stream",
          "name": "stdout",
          "text": [
            "Collecting openai==1.12.0\n",
            "  Downloading openai-1.12.0-py3-none-any.whl (226 kB)\n",
            "\u001b[?25l     \u001b[90m━━━━━━━━━━━━━━━━━━━━━━━━━━━━━━━━━━━━━━━━\u001b[0m \u001b[32m0.0/226.7 kB\u001b[0m \u001b[31m?\u001b[0m eta \u001b[36m-:--:--\u001b[0m\r\u001b[2K     \u001b[91m━━━━━━━━━━━━━━━━━━━━━━━━━\u001b[0m\u001b[90m╺\u001b[0m\u001b[90m━━━━━━━━━━━━━━\u001b[0m \u001b[32m143.4/226.7 kB\u001b[0m \u001b[31m4.2 MB/s\u001b[0m eta \u001b[36m0:00:01\u001b[0m\r\u001b[2K     \u001b[90m━━━━━━━━━━━━━━━━━━━━━━━━━━━━━━━━━━━━━━━━\u001b[0m \u001b[32m226.7/226.7 kB\u001b[0m \u001b[31m4.2 MB/s\u001b[0m eta \u001b[36m0:00:00\u001b[0m\n",
            "\u001b[?25hRequirement already satisfied: anyio<5,>=3.5.0 in /usr/local/lib/python3.10/dist-packages (from openai==1.12.0) (3.7.1)\n",
            "Requirement already satisfied: distro<2,>=1.7.0 in /usr/lib/python3/dist-packages (from openai==1.12.0) (1.7.0)\n",
            "Collecting httpx<1,>=0.23.0 (from openai==1.12.0)\n",
            "  Downloading httpx-0.27.0-py3-none-any.whl (75 kB)\n",
            "\u001b[2K     \u001b[90m━━━━━━━━━━━━━━━━━━━━━━━━━━━━━━━━━━━━━━━━\u001b[0m \u001b[32m75.6/75.6 kB\u001b[0m \u001b[31m6.2 MB/s\u001b[0m eta \u001b[36m0:00:00\u001b[0m\n",
            "\u001b[?25hRequirement already satisfied: pydantic<3,>=1.9.0 in /usr/local/lib/python3.10/dist-packages (from openai==1.12.0) (2.7.0)\n",
            "Requirement already satisfied: sniffio in /usr/local/lib/python3.10/dist-packages (from openai==1.12.0) (1.3.1)\n",
            "Requirement already satisfied: tqdm>4 in /usr/local/lib/python3.10/dist-packages (from openai==1.12.0) (4.66.2)\n",
            "Requirement already satisfied: typing-extensions<5,>=4.7 in /usr/local/lib/python3.10/dist-packages (from openai==1.12.0) (4.11.0)\n",
            "Requirement already satisfied: idna>=2.8 in /usr/local/lib/python3.10/dist-packages (from anyio<5,>=3.5.0->openai==1.12.0) (3.7)\n",
            "Requirement already satisfied: exceptiongroup in /usr/local/lib/python3.10/dist-packages (from anyio<5,>=3.5.0->openai==1.12.0) (1.2.0)\n",
            "Requirement already satisfied: certifi in /usr/local/lib/python3.10/dist-packages (from httpx<1,>=0.23.0->openai==1.12.0) (2024.2.2)\n",
            "Collecting httpcore==1.* (from httpx<1,>=0.23.0->openai==1.12.0)\n",
            "  Downloading httpcore-1.0.5-py3-none-any.whl (77 kB)\n",
            "\u001b[2K     \u001b[90m━━━━━━━━━━━━━━━━━━━━━━━━━━━━━━━━━━━━━━━━\u001b[0m \u001b[32m77.9/77.9 kB\u001b[0m \u001b[31m7.6 MB/s\u001b[0m eta \u001b[36m0:00:00\u001b[0m\n",
            "\u001b[?25hCollecting h11<0.15,>=0.13 (from httpcore==1.*->httpx<1,>=0.23.0->openai==1.12.0)\n",
            "  Downloading h11-0.14.0-py3-none-any.whl (58 kB)\n",
            "\u001b[2K     \u001b[90m━━━━━━━━━━━━━━━━━━━━━━━━━━━━━━━━━━━━━━━━\u001b[0m \u001b[32m58.3/58.3 kB\u001b[0m \u001b[31m6.3 MB/s\u001b[0m eta \u001b[36m0:00:00\u001b[0m\n",
            "\u001b[?25hRequirement already satisfied: annotated-types>=0.4.0 in /usr/local/lib/python3.10/dist-packages (from pydantic<3,>=1.9.0->openai==1.12.0) (0.6.0)\n",
            "Requirement already satisfied: pydantic-core==2.18.1 in /usr/local/lib/python3.10/dist-packages (from pydantic<3,>=1.9.0->openai==1.12.0) (2.18.1)\n",
            "Installing collected packages: h11, httpcore, httpx, openai\n",
            "Successfully installed h11-0.14.0 httpcore-1.0.5 httpx-0.27.0 openai-1.12.0\n"
          ]
        }
      ],
      "source": [
        "pip install openai==1.12.0"
      ]
    },
    {
      "cell_type": "code",
      "source": [
        "pip install streamlit"
      ],
      "metadata": {
        "colab": {
          "base_uri": "https://localhost:8080/"
        },
        "id": "Pg5In183y2eT",
        "outputId": "5437b7bb-9ff3-46c7-87a4-dfd856fa5042"
      },
      "execution_count": 7,
      "outputs": [
        {
          "output_type": "stream",
          "name": "stdout",
          "text": [
            "Collecting streamlit\n",
            "  Downloading streamlit-1.33.0-py2.py3-none-any.whl (8.1 MB)\n",
            "\u001b[2K     \u001b[90m━━━━━━━━━━━━━━━━━━━━━━━━━━━━━━━━━━━━━━━━\u001b[0m \u001b[32m8.1/8.1 MB\u001b[0m \u001b[31m16.6 MB/s\u001b[0m eta \u001b[36m0:00:00\u001b[0m\n",
            "\u001b[?25hRequirement already satisfied: altair<6,>=4.0 in /usr/local/lib/python3.10/dist-packages (from streamlit) (4.2.2)\n",
            "Requirement already satisfied: blinker<2,>=1.0.0 in /usr/lib/python3/dist-packages (from streamlit) (1.4)\n",
            "Requirement already satisfied: cachetools<6,>=4.0 in /usr/local/lib/python3.10/dist-packages (from streamlit) (5.3.3)\n",
            "Requirement already satisfied: click<9,>=7.0 in /usr/local/lib/python3.10/dist-packages (from streamlit) (8.1.7)\n",
            "Requirement already satisfied: numpy<2,>=1.19.3 in /usr/local/lib/python3.10/dist-packages (from streamlit) (1.25.2)\n",
            "Requirement already satisfied: packaging<25,>=16.8 in /usr/local/lib/python3.10/dist-packages (from streamlit) (24.0)\n",
            "Requirement already satisfied: pandas<3,>=1.3.0 in /usr/local/lib/python3.10/dist-packages (from streamlit) (2.0.3)\n",
            "Requirement already satisfied: pillow<11,>=7.1.0 in /usr/local/lib/python3.10/dist-packages (from streamlit) (9.4.0)\n",
            "Requirement already satisfied: protobuf<5,>=3.20 in /usr/local/lib/python3.10/dist-packages (from streamlit) (3.20.3)\n",
            "Requirement already satisfied: pyarrow>=7.0 in /usr/local/lib/python3.10/dist-packages (from streamlit) (14.0.2)\n",
            "Requirement already satisfied: requests<3,>=2.27 in /usr/local/lib/python3.10/dist-packages (from streamlit) (2.31.0)\n",
            "Requirement already satisfied: rich<14,>=10.14.0 in /usr/local/lib/python3.10/dist-packages (from streamlit) (13.7.1)\n",
            "Requirement already satisfied: tenacity<9,>=8.1.0 in /usr/local/lib/python3.10/dist-packages (from streamlit) (8.2.3)\n",
            "Requirement already satisfied: toml<2,>=0.10.1 in /usr/local/lib/python3.10/dist-packages (from streamlit) (0.10.2)\n",
            "Requirement already satisfied: typing-extensions<5,>=4.3.0 in /usr/local/lib/python3.10/dist-packages (from streamlit) (4.11.0)\n",
            "Collecting gitpython!=3.1.19,<4,>=3.0.7 (from streamlit)\n",
            "  Downloading GitPython-3.1.43-py3-none-any.whl (207 kB)\n",
            "\u001b[2K     \u001b[90m━━━━━━━━━━━━━━━━━━━━━━━━━━━━━━━━━━━━━━━━\u001b[0m \u001b[32m207.3/207.3 kB\u001b[0m \u001b[31m17.0 MB/s\u001b[0m eta \u001b[36m0:00:00\u001b[0m\n",
            "\u001b[?25hCollecting pydeck<1,>=0.8.0b4 (from streamlit)\n",
            "  Downloading pydeck-0.8.1b0-py2.py3-none-any.whl (4.8 MB)\n",
            "\u001b[2K     \u001b[90m━━━━━━━━━━━━━━━━━━━━━━━━━━━━━━━━━━━━━━━━\u001b[0m \u001b[32m4.8/4.8 MB\u001b[0m \u001b[31m35.6 MB/s\u001b[0m eta \u001b[36m0:00:00\u001b[0m\n",
            "\u001b[?25hRequirement already satisfied: tornado<7,>=6.0.3 in /usr/local/lib/python3.10/dist-packages (from streamlit) (6.3.3)\n",
            "Collecting watchdog>=2.1.5 (from streamlit)\n",
            "  Downloading watchdog-4.0.0-py3-none-manylinux2014_x86_64.whl (82 kB)\n",
            "\u001b[2K     \u001b[90m━━━━━━━━━━━━━━━━━━━━━━━━━━━━━━━━━━━━━━━━\u001b[0m \u001b[32m83.0/83.0 kB\u001b[0m \u001b[31m8.3 MB/s\u001b[0m eta \u001b[36m0:00:00\u001b[0m\n",
            "\u001b[?25hRequirement already satisfied: entrypoints in /usr/local/lib/python3.10/dist-packages (from altair<6,>=4.0->streamlit) (0.4)\n",
            "Requirement already satisfied: jinja2 in /usr/local/lib/python3.10/dist-packages (from altair<6,>=4.0->streamlit) (3.1.3)\n",
            "Requirement already satisfied: jsonschema>=3.0 in /usr/local/lib/python3.10/dist-packages (from altair<6,>=4.0->streamlit) (4.19.2)\n",
            "Requirement already satisfied: toolz in /usr/local/lib/python3.10/dist-packages (from altair<6,>=4.0->streamlit) (0.12.1)\n",
            "Collecting gitdb<5,>=4.0.1 (from gitpython!=3.1.19,<4,>=3.0.7->streamlit)\n",
            "  Downloading gitdb-4.0.11-py3-none-any.whl (62 kB)\n",
            "\u001b[2K     \u001b[90m━━━━━━━━━━━━━━━━━━━━━━━━━━━━━━━━━━━━━━━━\u001b[0m \u001b[32m62.7/62.7 kB\u001b[0m \u001b[31m5.1 MB/s\u001b[0m eta \u001b[36m0:00:00\u001b[0m\n",
            "\u001b[?25hRequirement already satisfied: python-dateutil>=2.8.2 in /usr/local/lib/python3.10/dist-packages (from pandas<3,>=1.3.0->streamlit) (2.8.2)\n",
            "Requirement already satisfied: pytz>=2020.1 in /usr/local/lib/python3.10/dist-packages (from pandas<3,>=1.3.0->streamlit) (2023.4)\n",
            "Requirement already satisfied: tzdata>=2022.1 in /usr/local/lib/python3.10/dist-packages (from pandas<3,>=1.3.0->streamlit) (2024.1)\n",
            "Requirement already satisfied: charset-normalizer<4,>=2 in /usr/local/lib/python3.10/dist-packages (from requests<3,>=2.27->streamlit) (3.3.2)\n",
            "Requirement already satisfied: idna<4,>=2.5 in /usr/local/lib/python3.10/dist-packages (from requests<3,>=2.27->streamlit) (3.7)\n",
            "Requirement already satisfied: urllib3<3,>=1.21.1 in /usr/local/lib/python3.10/dist-packages (from requests<3,>=2.27->streamlit) (2.0.7)\n",
            "Requirement already satisfied: certifi>=2017.4.17 in /usr/local/lib/python3.10/dist-packages (from requests<3,>=2.27->streamlit) (2024.2.2)\n",
            "Requirement already satisfied: markdown-it-py>=2.2.0 in /usr/local/lib/python3.10/dist-packages (from rich<14,>=10.14.0->streamlit) (3.0.0)\n",
            "Requirement already satisfied: pygments<3.0.0,>=2.13.0 in /usr/local/lib/python3.10/dist-packages (from rich<14,>=10.14.0->streamlit) (2.16.1)\n",
            "Collecting smmap<6,>=3.0.1 (from gitdb<5,>=4.0.1->gitpython!=3.1.19,<4,>=3.0.7->streamlit)\n",
            "  Downloading smmap-5.0.1-py3-none-any.whl (24 kB)\n",
            "Requirement already satisfied: MarkupSafe>=2.0 in /usr/local/lib/python3.10/dist-packages (from jinja2->altair<6,>=4.0->streamlit) (2.1.5)\n",
            "Requirement already satisfied: attrs>=22.2.0 in /usr/local/lib/python3.10/dist-packages (from jsonschema>=3.0->altair<6,>=4.0->streamlit) (23.2.0)\n",
            "Requirement already satisfied: jsonschema-specifications>=2023.03.6 in /usr/local/lib/python3.10/dist-packages (from jsonschema>=3.0->altair<6,>=4.0->streamlit) (2023.12.1)\n",
            "Requirement already satisfied: referencing>=0.28.4 in /usr/local/lib/python3.10/dist-packages (from jsonschema>=3.0->altair<6,>=4.0->streamlit) (0.34.0)\n",
            "Requirement already satisfied: rpds-py>=0.7.1 in /usr/local/lib/python3.10/dist-packages (from jsonschema>=3.0->altair<6,>=4.0->streamlit) (0.18.0)\n",
            "Requirement already satisfied: mdurl~=0.1 in /usr/local/lib/python3.10/dist-packages (from markdown-it-py>=2.2.0->rich<14,>=10.14.0->streamlit) (0.1.2)\n",
            "Requirement already satisfied: six>=1.5 in /usr/local/lib/python3.10/dist-packages (from python-dateutil>=2.8.2->pandas<3,>=1.3.0->streamlit) (1.16.0)\n",
            "Installing collected packages: watchdog, smmap, pydeck, gitdb, gitpython, streamlit\n",
            "Successfully installed gitdb-4.0.11 gitpython-3.1.43 pydeck-0.8.1b0 smmap-5.0.1 streamlit-1.33.0 watchdog-4.0.0\n"
          ]
        }
      ]
    },
    {
      "cell_type": "code",
      "source": [
        "import openai\n",
        "from openai import OpenAI\n",
        "\n",
        "print(openai.__version__) # version - 1.12.0\n"
      ],
      "metadata": {
        "id": "RI2VSH6HaKF-",
        "colab": {
          "base_uri": "https://localhost:8080/"
        },
        "outputId": "44773b1e-ef27-4059-b128-1b71e1e5e69a"
      },
      "execution_count": 2,
      "outputs": [
        {
          "output_type": "stream",
          "name": "stdout",
          "text": [
            "1.12.0\n"
          ]
        }
      ]
    },
    {
      "cell_type": "markdown",
      "source": [
        "### storing real credentials.json inside a google drive folder is not secure and not best practice\n",
        "### please download the folder, create a github repo, then create a .gitignore"
      ],
      "metadata": {
        "id": "wQpX233aoinx"
      }
    },
    {
      "cell_type": "code",
      "source": [
        "cd /content/drive/MyDrive/Colab_Notebooks/90835/LLM_Healthcare"
      ],
      "metadata": {
        "colab": {
          "base_uri": "https://localhost:8080/"
        },
        "id": "5Nhuz633ogt5",
        "outputId": "d4613cc3-660d-42a9-8e52-a08ecb235523"
      },
      "execution_count": 3,
      "outputs": [
        {
          "output_type": "stream",
          "name": "stdout",
          "text": [
            "/content/drive/MyDrive/Colab_Notebooks/90835/LLM_Healthcare\n"
          ]
        }
      ]
    },
    {
      "cell_type": "code",
      "source": [
        "ls"
      ],
      "metadata": {
        "colab": {
          "base_uri": "https://localhost:8080/"
        },
        "id": "PBkp4IjaxI2u",
        "outputId": "269ec7ab-cdef-46a3-d489-b923bba00495"
      },
      "execution_count": 4,
      "outputs": [
        {
          "output_type": "stream",
          "name": "stdout",
          "text": [
            "credentials.json  data_3.json  \u001b[0m\u001b[01;34mexamples\u001b[0m/         llm.log    starter_code.ipynb\n",
            "data_2.json       data.json    instructions.txt  README.md\n"
          ]
        }
      ]
    },
    {
      "cell_type": "markdown",
      "source": [
        "# Load data and credentials"
      ],
      "metadata": {
        "id": "YMgRdrpVXAgx"
      }
    },
    {
      "cell_type": "code",
      "source": [
        "import json\n",
        "\n",
        "# Update the path if your file is in a different location\n",
        "file_path = 'data.json'\n",
        "\n",
        "with open(file_path, 'r') as file:\n",
        "    patient_data = json.load(file)\n",
        "\n",
        "# To verify, print a part of the data\n",
        "print(patient_data['patient_demographics'])\n",
        "\n"
      ],
      "metadata": {
        "colab": {
          "base_uri": "https://localhost:8080/"
        },
        "id": "he226yj3VkF5",
        "outputId": "d44083d3-fe56-4d78-d193-52dd575925d4"
      },
      "execution_count": 5,
      "outputs": [
        {
          "output_type": "stream",
          "name": "stdout",
          "text": [
            "{'name': 'John Doe', 'age': 70, 'gender': 'Male', 'admission_date': '2024-02-10', 'discharge_date': '2024-02-14'}\n"
          ]
        }
      ]
    },
    {
      "cell_type": "code",
      "source": [
        "# You should not store API keys in a google drive folder - it is not secure. If using github, add credentials.json to .gitignore.\n",
        "\n",
        "credentials_path = '/content/drive/MyDrive/Colab_Notebooks/90835/LLM_Healthcare/credentials.json'\n",
        "\n",
        "with open(credentials_path, 'r') as file:\n",
        "    credentials = json.load(file)\n",
        "\n",
        "openai_api_key = credentials['openai_api_key']\n",
        "umls_api_key = credentials['umls_api_key']\n",
        "\n",
        "# Use the API key as needed, for example, to configure OpenAI's API client\n",
        "openai.api_key = openai_api_key\n"
      ],
      "metadata": {
        "id": "WzK0JyP6XbZK"
      },
      "execution_count": 6,
      "outputs": []
    },
    {
      "cell_type": "markdown",
      "source": [
        "# Explore data"
      ],
      "metadata": {
        "id": "Yicw--qjYd-m"
      }
    },
    {
      "cell_type": "code",
      "source": [
        "print(f'Data type: {type(patient_data)}')"
      ],
      "metadata": {
        "colab": {
          "base_uri": "https://localhost:8080/"
        },
        "id": "yeAfWIk8XmLq",
        "outputId": "f8d4170a-0010-4107-b5ad-2e587a83996c"
      },
      "execution_count": 7,
      "outputs": [
        {
          "output_type": "stream",
          "name": "stdout",
          "text": [
            "Data type: <class 'dict'>\n"
          ]
        }
      ]
    },
    {
      "cell_type": "code",
      "source": [
        "print(f'Keys in data: {(patient_data.keys())}')"
      ],
      "metadata": {
        "id": "uU8OUSzUYlEA",
        "outputId": "59082c5b-4d8c-4da1-cb4d-f8efbd10b893",
        "colab": {
          "base_uri": "https://localhost:8080/"
        }
      },
      "execution_count": 8,
      "outputs": [
        {
          "output_type": "stream",
          "name": "stdout",
          "text": [
            "Keys in data: dict_keys(['patient_id', 'patient_demographics', 'diagnoses', 'drg', 'encounters', 'flowsheets', 'imaging', 'labs', 'med_orders', 'notes'])\n"
          ]
        }
      ]
    },
    {
      "cell_type": "code",
      "source": [
        "# Look at encounters data, there are multiple\n",
        "patient_data['encounters']"
      ],
      "metadata": {
        "id": "WxxqbxbFYrFV",
        "outputId": "36b096a3-9391-46e2-b28a-576aa2ceaa27",
        "colab": {
          "base_uri": "https://localhost:8080/"
        }
      },
      "execution_count": 9,
      "outputs": [
        {
          "output_type": "execute_result",
          "data": {
            "text/plain": [
              "[{'date': '2024-02-10',\n",
              "  'type': 'Admission',\n",
              "  'reason': 'Cough, shortness of breath, hemoptysis, fever'},\n",
              " {'date': '2024-02-14', 'type': 'Discharge'}]"
            ]
          },
          "metadata": {},
          "execution_count": 9
        }
      ]
    },
    {
      "cell_type": "code",
      "source": [
        "def del_sensitive_data(data,sensitive_key = ['name','firstname','lastname','patient_id']):\n",
        "  keys = list(data.keys())\n",
        "  for key in keys:\n",
        "    if type(data[key]) is dict:\n",
        "      del_sensitive_data(data[key])\n",
        "    else:\n",
        "      if key.lower() in sensitive_key:\n",
        "        del data[key]"
      ],
      "metadata": {
        "id": "fKxdF-6EU3lf"
      },
      "execution_count": 11,
      "outputs": []
    },
    {
      "cell_type": "code",
      "source": [
        "llm_patient_data = patient_data.copy()\n",
        "del_sensitive_data(llm_patient_data)\n",
        "llm_patient_data"
      ],
      "metadata": {
        "colab": {
          "base_uri": "https://localhost:8080/"
        },
        "id": "Wy1zxA7BWE-b",
        "outputId": "bfed070e-1ba1-4a21-8d9a-e607606aa559"
      },
      "execution_count": 12,
      "outputs": [
        {
          "output_type": "execute_result",
          "data": {
            "text/plain": [
              "{'patient_demographics': {'age': 70,\n",
              "  'gender': 'Male',\n",
              "  'admission_date': '2024-02-10',\n",
              "  'discharge_date': '2024-02-14'},\n",
              " 'diagnoses': [{'date': '2024-02-10',\n",
              "   'diagnosis_code': 'J18.1',\n",
              "   'description': 'Lobar pneumonia, unspecified organism'}],\n",
              " 'drg': {'code': '193',\n",
              "  'description': 'Simple pneumonia and pleurisy with MCC'},\n",
              " 'encounters': [{'date': '2024-02-10',\n",
              "   'type': 'Admission',\n",
              "   'reason': 'Cough, shortness of breath, hemoptysis, fever'},\n",
              "  {'date': '2024-02-14', 'type': 'Discharge'}],\n",
              " 'flowsheets': [{'date': '2024-02-10',\n",
              "   'time': '08:00',\n",
              "   'temperature': '38.5°C',\n",
              "   'heart_rate': '90 bpm',\n",
              "   'blood_pressure': '130/85 mmHg',\n",
              "   'respiratory_rate': '20 breaths/min',\n",
              "   'oxygen_saturation': '92%'},\n",
              "  {'date': '2024-02-11',\n",
              "   'time': '08:00',\n",
              "   'temperature': '37.8°C',\n",
              "   'heart_rate': '85 bpm',\n",
              "   'blood_pressure': '125/80 mmHg',\n",
              "   'respiratory_rate': '18 breaths/min',\n",
              "   'oxygen_saturation': '94%'},\n",
              "  {'date': '2024-02-12',\n",
              "   'time': '08:00',\n",
              "   'temperature': '37°C',\n",
              "   'heart_rate': '80 bpm',\n",
              "   'blood_pressure': '120/75 mmHg',\n",
              "   'respiratory_rate': '16 breaths/min',\n",
              "   'oxygen_saturation': '96%'},\n",
              "  {'date': '2024-02-13',\n",
              "   'time': '08:00',\n",
              "   'temperature': '36.5°C',\n",
              "   'heart_rate': '78 bpm',\n",
              "   'blood_pressure': '118/74 mmHg',\n",
              "   'respiratory_rate': '14 breaths/min',\n",
              "   'oxygen_saturation': '98%'}],\n",
              " 'imaging': [{'date': '2024-02-10',\n",
              "   'type': 'Chest X-Ray',\n",
              "   'findings': 'Consolidation in left lower lobe'}],\n",
              " 'labs': [{'date': '2024-02-10',\n",
              "   'tests': [{'name': 'CRP', 'result': '60 mg/L'},\n",
              "    {'name': 'WBC', 'result': '12 x10^9/L'},\n",
              "    {'name': 'Hemoglobin', 'result': '13.5 g/dL'},\n",
              "    {'name': 'Platelets', 'result': '250 x10^9/L'}]},\n",
              "  {'date': '2024-02-11',\n",
              "   'tests': [{'name': 'CRP', 'result': '50 mg/L'},\n",
              "    {'name': 'WBC', 'result': '11 x10^9/L'},\n",
              "    {'name': 'Hemoglobin', 'result': '13.3 g/dL'},\n",
              "    {'name': 'Platelets', 'result': '245 x10^9/L'}]},\n",
              "  {'date': '2024-02-12',\n",
              "   'tests': [{'name': 'CRP', 'result': '35 mg/L'},\n",
              "    {'name': 'WBC', 'result': '9 x10^9/L'},\n",
              "    {'name': 'Hemoglobin', 'result': '13.1 g/dL'},\n",
              "    {'name': 'Platelets', 'result': '240 x10^9/L'}]},\n",
              "  {'date': '2024-02-13',\n",
              "   'tests': [{'name': 'CRP', 'result': '20 mg/L'},\n",
              "    {'name': 'WBC', 'result': '7 x10^9/L'},\n",
              "    {'name': 'Hemoglobin', 'result': '13 g/dL'},\n",
              "    {'name': 'Platelets', 'result': '238 x10^9/L'}]}],\n",
              " 'med_orders': [{'date': '2024-02-10',\n",
              "   'medication': 'Amoxicillin IV',\n",
              "   'dose': '500 mg',\n",
              "   'frequency': '8 hourly'},\n",
              "  {'date': '2024-02-10', 'medication': 'Paracetamol', 'dose': 'PRN'},\n",
              "  {'date': '2024-02-11',\n",
              "   'medication': 'Amoxicillin IV',\n",
              "   'dose': '250 mg',\n",
              "   'frequency': 'Daily'},\n",
              "  {'date': '2024-02-11',\n",
              "   'medication': 'Atorvastatin PO',\n",
              "   'dose': '20 mg',\n",
              "   'frequency': 'Nightly'},\n",
              "  {'date': '2024-02-12',\n",
              "   'medication': 'Amoxicillin IV',\n",
              "   'dose': '250 mg',\n",
              "   'frequency': 'Daily'},\n",
              "  {'date': '2024-02-12',\n",
              "   'medication': 'Atorvastatin PO',\n",
              "   'dose': '20 mg',\n",
              "   'frequency': 'Nightly'},\n",
              "  {'date': '2024-02-13',\n",
              "   'medication': 'Amoxicillin PO',\n",
              "   'dose': '250 mg',\n",
              "   'frequency': 'Daily'},\n",
              "  {'date': '2024-02-13',\n",
              "   'medication': 'Atorvastatin PO',\n",
              "   'dose': '20 mg',\n",
              "   'frequency': 'Nightly'}],\n",
              " 'notes': [{'date': '2024-02-10',\n",
              "   'author': 'Dr. Smith',\n",
              "   'note_type': 'Admission Note',\n",
              "   'content': 'Patient admitted with symptoms indicative of pneumonia. Initiated empirical antibiotic therapy.'},\n",
              "  {'date': '2024-02-11',\n",
              "   'author': 'Dr. Smith',\n",
              "   'note_type': 'Ward Round Note',\n",
              "   'content': 'Patient shows signs of improvement. CRP levels declining. Continue with current antibiotic regimen. Monitor for any adverse reactions.'},\n",
              "  {'date': '2024-02-12',\n",
              "   'author': 'Dr. Smith',\n",
              "   'note_type': 'Ward Round Note',\n",
              "   'content': \"Patient's temperature normalized. Oxygen saturation levels stable. Plan to switch to oral antibiotics tomorrow.\"},\n",
              "  {'date': '2024-02-13',\n",
              "   'author': 'Dr. Smith',\n",
              "   'note_type': 'Ward Round Note',\n",
              "   'content': 'Patient continues to improve. CRP and WBC trending down. Ready for discharge planning.'},\n",
              "  {'date': '2024-02-14',\n",
              "   'author': 'Dr. Smith',\n",
              "   'note_type': 'Discharge Summary',\n",
              "   'content': \"Patient's condition improved with treatment. Medically fit for discharge. Home with instructions for oral antibiotics for 5 more days. Follow-up in outpatient clinic in two weeks.\"}]}"
            ]
          },
          "metadata": {},
          "execution_count": 12
        }
      ]
    },
    {
      "cell_type": "markdown",
      "source": [
        "# Logger"
      ],
      "metadata": {
        "id": "3WSoWkQK4Azy"
      }
    },
    {
      "cell_type": "code",
      "source": [
        "import logging\n",
        "\n",
        "#Setup the logger\n",
        "logger = logging.getLogger('logger')  # Create a logger object\n",
        "logger.setLevel(logging.DEBUG)  # Set the minimum logging level\n",
        "\n",
        "#Create a file handler that logs even debug messages\n",
        "file_handler = logging.FileHandler('llm.log')\n",
        "file_handler.setLevel(logging.DEBUG)\n",
        "\n",
        "# Create a formatter\n",
        "formatter = logging.Formatter('%(asctime)s - %(name)s - %(levelname)s - %(message)s', datefmt='%Y-%m-%d %H:%M:%S')\n",
        "file_handler.setFormatter(formatter)\n",
        "\n",
        "# Add the file handler to the logger\n",
        "logger.addHandler(file_handler)\n"
      ],
      "metadata": {
        "id": "GfT30yZZ4AJe"
      },
      "execution_count": 13,
      "outputs": []
    },
    {
      "cell_type": "markdown",
      "source": [
        "# Chain-of-thought solution\n"
      ],
      "metadata": {
        "id": "eOMsxxnLadMZ"
      }
    },
    {
      "cell_type": "code",
      "source": [
        "client = OpenAI(api_key=openai_api_key)"
      ],
      "metadata": {
        "id": "1REJ338Bbc6y"
      },
      "execution_count": 14,
      "outputs": []
    },
    {
      "cell_type": "code",
      "source": [
        "def ok_for_discharge(patient_data):\n",
        "    # Initialize the OpenAI client with your API key\n",
        "    client = OpenAI(api_key=openai_api_key)\n",
        "\n",
        "    message =  {\n",
        "                \"role\": \"user\",\n",
        "                \"content\": f\"\"\"w\n",
        "                              You are a physician deciding whether to discharge a patient. Please decide whether the given patient is safe to discharge.\n",
        "                              Consider all information provided, particulary the doctors' notes.\n",
        "                              Write the output in this format: Yes/No\n",
        "                              Data: {patient_data}\n",
        "                \"\"\",\n",
        "            }\n",
        "    # Create the chat completion request with the patient data\n",
        "    chat_completion = client.chat.completions.create(\n",
        "        messages=[\n",
        "          message\n",
        "        ],\n",
        "        model=\"gpt-3.5-turbo\",\n",
        "    )\n",
        "    result = chat_completion.choices[0].message.content\n",
        "    logger.info(f'Q: {message}')\n",
        "    logger.info(f'A: {result}')\n",
        "    # Return the content of the generated message\n",
        "    return result"
      ],
      "metadata": {
        "id": "CXCHEdltFPZ-"
      },
      "execution_count": 15,
      "outputs": []
    },
    {
      "cell_type": "code",
      "source": [
        "def generate_patient_summary(patient_data, additional_prompts='', instructions='',example=''):\n",
        "    \"\"\"\n",
        "    Generates a patient summary using OpenAI's GPT-3.5.\n",
        "\n",
        "    Parameters:\n",
        "    - patient_data (str): The patient data to generate the summary from.\n",
        "    - additional_prompts (str): Any additional prompts\n",
        "\n",
        "    Returns:\n",
        "    - str: The generated patient summary.\n",
        "    \"\"\"\n",
        "\n",
        "    # Initialize the OpenAI client with your API key\n",
        "    client = OpenAI(api_key=openai_api_key)\n",
        "\n",
        "    message =  {\n",
        "                \"role\": \"user\",\n",
        "                \"content\": f\"\"\"\n",
        "                              You are a physician writing a discharge letter for a patient. Use patient data from context only. Minimize hallucinations.\n",
        "                              {additional_prompts}\n",
        "                              Write the output in this format: {instructions}\n",
        "                              Example: {example}\n",
        "                              Data: {patient_data}\n",
        "                \"\"\",\n",
        "            }\n",
        "    # Create the chat completion request with the patient data\n",
        "    chat_completion = client.chat.completions.create(\n",
        "        messages=[\n",
        "          message\n",
        "        ],\n",
        "        model=\"gpt-3.5-turbo\",\n",
        "    )\n",
        "    result = chat_completion.choices[0].message.content\n",
        "    logger.info(f'Q: {message}')\n",
        "    logger.info(f'A: {result}')\n",
        "    # Return the content of the generated message\n",
        "    return result"
      ],
      "metadata": {
        "id": "Bhhzo4DTb1VX"
      },
      "execution_count": 16,
      "outputs": []
    },
    {
      "cell_type": "code",
      "source": [
        "#Instructions for a good discharge summary :\n",
        "\n",
        "# Define the path to your file\n",
        "inst_path = '/content/drive/MyDrive/Colab_Notebooks/90835/LLM_Healthcare/instructions.txt'\n",
        "eg_path = '/content/drive/MyDrive/Colab_Notebooks/90835/LLM_Healthcare/examples/eg1.txt'\n",
        "\n",
        "\n",
        "with open(inst_path, 'r') as file:\n",
        "    instructions = file.read()\n",
        "    print(instructions)\n",
        "\n",
        "with open(eg_path, 'r') as file:\n",
        "    example = file.read()\n",
        "    print(example)"
      ],
      "metadata": {
        "colab": {
          "base_uri": "https://localhost:8080/"
        },
        "id": "JRPkbEK3gzL3",
        "outputId": "3b50f740-533e-4bda-95f6-1c8e14718baf"
      },
      "execution_count": 18,
      "outputs": [
        {
          "output_type": "stream",
          "name": "stdout",
          "text": [
            "Step 1\n",
            "Patient Identification: Begin by filling in the patient's essential information, like age, sex, and date of birth.\n",
            "\n",
            "Step 2\n",
            "Admission and Discharge Dates: Include the dates the patient was admitted and discharged.\n",
            "\n",
            "Step 3\n",
            "Reason for Admission: Detail the primary diagnosis or condition that necessitated hospitalization.\n",
            "\n",
            "Step 4 \n",
            "Past Medical History:Important concurrent diagnoses (e.g., CHF with specific ejection fraction, history of myocardial infarctions, significant lesions, HIV status)\n",
            "\n",
            "Step 5\n",
            "Procedures Performed: Describe any surgical or non-surgical procedures done during the hospital stay.\n",
            "\n",
            "Step 6\n",
            "Medications Prescribed: List the medications prescribed to the patient at discharge, including dosages and frequency.\n",
            "\n",
            "Step 7\n",
            "Patient's Condition at Discharge: Provide a summary of the patient's health status at discharge.\n",
            "\n",
            "Step 8\n",
            "Follow-up Care Instructions: Offer detailed instructions for post-hospital care, including medications, dietary restrictions, physical activity recommendations, and future appointments.\n",
            "\n",
            "Step 9\n",
            "Hospital Stay Summary: Summarize the patient's course of care during hospitalization, from symptoms and diagnoses to treatments and patient responses.\n",
            "Patient Identification\n",
            "Name: John Rivers\n",
            "Date of Birth: January 1, 1980\n",
            "Medical Record Number: 123456\n",
            "\n",
            "Date of Admission: April 1, 2023\n",
            "Date of Discharge: May 25, 2023\n",
            "\n",
            "Reason for Admission:\n",
            "Patient presented to the emergency department with severe chest pain radiating to the left arm, accompanied by shortness of breath and sweating. Initial EKG findings and elevated cardiac enzymes confirmed the diagnosis of Acute Myocardial Infarction (heart attack).\n",
            "\n",
            "Procedures Performed:\n",
            "Coronary Angiogram revealed a 90% stenosis in the left anterior descending (LAD) artery. Coronary Angioplasty and placement of a drug-eluting stent were successfully performed to reestablish blood flow.\n",
            "\n",
            "Medications Prescribed:\n",
            "\n",
            "Aspirin, 81 mg daily (antiplatelet agent for heart health)\n",
            "Atorvastatin, 40 mg daily (to manage cholesterol levels)\n",
            "Metoprolol, 50 mg twice daily (beta-blocker to control heart rate and blood pressure)\n",
            "Nitroglycerin, as needed (for chest pain relief)\n",
            "Patient's Condition at Discharge:\n",
            "At discharge, the patient's condition was stable. Mild, intermittent chest discomfort was reported but significantly improved compared to admission. The patient was ambulatory and independent in performing activities of daily living. Vital signs were within normal range. Cardiac rhythm was sinus rhythm with no significant ectopy.\n",
            "\n",
            "Follow-up Care Instructions:\n",
            "Medications: Continue all prescribed medications without interruption unless advised by a doctor.\n",
            "Diet: Follow a heart-healthy diet low in sodium, saturated fats, and simple carbohydrates.\n",
            "Exercise: Start with light walking, gradually increasing to moderate-intensity exercise for at least 30 minutes a day as tolerated.\n",
            "Lifestyle: Smoking cessation advised (if applicable), and stress management techniques recommended.\n",
            "Follow-up: Schedule an appointment with a cardiologist in 2 weeks and with the primary care physician within one week.\n"
          ]
        }
      ]
    },
    {
      "cell_type": "code",
      "source": [
        "print(ok_for_discharge(llm_patient_data))"
      ],
      "metadata": {
        "colab": {
          "base_uri": "https://localhost:8080/"
        },
        "id": "Gl-w7hSkGD-T",
        "outputId": "26bf29f3-c894-443a-e117-64af14b6a56a"
      },
      "execution_count": 19,
      "outputs": [
        {
          "output_type": "stream",
          "name": "stderr",
          "text": [
            "INFO:logger:Q: {'role': 'user', 'content': 'w\\n                              You are a physician deciding whether to discharge a patient. Please decide whether the given patient is safe to discharge.\\n                              Consider all information provided, particulary the doctors\\' notes.\\n                              Write the output in this format: Yes/No\\n                              Data: {\\'patient_demographics\\': {\\'age\\': 70, \\'gender\\': \\'Male\\', \\'admission_date\\': \\'2024-02-10\\', \\'discharge_date\\': \\'2024-02-14\\'}, \\'diagnoses\\': [{\\'date\\': \\'2024-02-10\\', \\'diagnosis_code\\': \\'J18.1\\', \\'description\\': \\'Lobar pneumonia, unspecified organism\\'}], \\'drg\\': {\\'code\\': \\'193\\', \\'description\\': \\'Simple pneumonia and pleurisy with MCC\\'}, \\'encounters\\': [{\\'date\\': \\'2024-02-10\\', \\'type\\': \\'Admission\\', \\'reason\\': \\'Cough, shortness of breath, hemoptysis, fever\\'}, {\\'date\\': \\'2024-02-14\\', \\'type\\': \\'Discharge\\'}], \\'flowsheets\\': [{\\'date\\': \\'2024-02-10\\', \\'time\\': \\'08:00\\', \\'temperature\\': \\'38.5°C\\', \\'heart_rate\\': \\'90 bpm\\', \\'blood_pressure\\': \\'130/85 mmHg\\', \\'respiratory_rate\\': \\'20 breaths/min\\', \\'oxygen_saturation\\': \\'92%\\'}, {\\'date\\': \\'2024-02-11\\', \\'time\\': \\'08:00\\', \\'temperature\\': \\'37.8°C\\', \\'heart_rate\\': \\'85 bpm\\', \\'blood_pressure\\': \\'125/80 mmHg\\', \\'respiratory_rate\\': \\'18 breaths/min\\', \\'oxygen_saturation\\': \\'94%\\'}, {\\'date\\': \\'2024-02-12\\', \\'time\\': \\'08:00\\', \\'temperature\\': \\'37°C\\', \\'heart_rate\\': \\'80 bpm\\', \\'blood_pressure\\': \\'120/75 mmHg\\', \\'respiratory_rate\\': \\'16 breaths/min\\', \\'oxygen_saturation\\': \\'96%\\'}, {\\'date\\': \\'2024-02-13\\', \\'time\\': \\'08:00\\', \\'temperature\\': \\'36.5°C\\', \\'heart_rate\\': \\'78 bpm\\', \\'blood_pressure\\': \\'118/74 mmHg\\', \\'respiratory_rate\\': \\'14 breaths/min\\', \\'oxygen_saturation\\': \\'98%\\'}], \\'imaging\\': [{\\'date\\': \\'2024-02-10\\', \\'type\\': \\'Chest X-Ray\\', \\'findings\\': \\'Consolidation in left lower lobe\\'}], \\'labs\\': [{\\'date\\': \\'2024-02-10\\', \\'tests\\': [{\\'name\\': \\'CRP\\', \\'result\\': \\'60 mg/L\\'}, {\\'name\\': \\'WBC\\', \\'result\\': \\'12 x10^9/L\\'}, {\\'name\\': \\'Hemoglobin\\', \\'result\\': \\'13.5 g/dL\\'}, {\\'name\\': \\'Platelets\\', \\'result\\': \\'250 x10^9/L\\'}]}, {\\'date\\': \\'2024-02-11\\', \\'tests\\': [{\\'name\\': \\'CRP\\', \\'result\\': \\'50 mg/L\\'}, {\\'name\\': \\'WBC\\', \\'result\\': \\'11 x10^9/L\\'}, {\\'name\\': \\'Hemoglobin\\', \\'result\\': \\'13.3 g/dL\\'}, {\\'name\\': \\'Platelets\\', \\'result\\': \\'245 x10^9/L\\'}]}, {\\'date\\': \\'2024-02-12\\', \\'tests\\': [{\\'name\\': \\'CRP\\', \\'result\\': \\'35 mg/L\\'}, {\\'name\\': \\'WBC\\', \\'result\\': \\'9 x10^9/L\\'}, {\\'name\\': \\'Hemoglobin\\', \\'result\\': \\'13.1 g/dL\\'}, {\\'name\\': \\'Platelets\\', \\'result\\': \\'240 x10^9/L\\'}]}, {\\'date\\': \\'2024-02-13\\', \\'tests\\': [{\\'name\\': \\'CRP\\', \\'result\\': \\'20 mg/L\\'}, {\\'name\\': \\'WBC\\', \\'result\\': \\'7 x10^9/L\\'}, {\\'name\\': \\'Hemoglobin\\', \\'result\\': \\'13 g/dL\\'}, {\\'name\\': \\'Platelets\\', \\'result\\': \\'238 x10^9/L\\'}]}], \\'med_orders\\': [{\\'date\\': \\'2024-02-10\\', \\'medication\\': \\'Amoxicillin IV\\', \\'dose\\': \\'500 mg\\', \\'frequency\\': \\'8 hourly\\'}, {\\'date\\': \\'2024-02-10\\', \\'medication\\': \\'Paracetamol\\', \\'dose\\': \\'PRN\\'}, {\\'date\\': \\'2024-02-11\\', \\'medication\\': \\'Amoxicillin IV\\', \\'dose\\': \\'250 mg\\', \\'frequency\\': \\'Daily\\'}, {\\'date\\': \\'2024-02-11\\', \\'medication\\': \\'Atorvastatin PO\\', \\'dose\\': \\'20 mg\\', \\'frequency\\': \\'Nightly\\'}, {\\'date\\': \\'2024-02-12\\', \\'medication\\': \\'Amoxicillin IV\\', \\'dose\\': \\'250 mg\\', \\'frequency\\': \\'Daily\\'}, {\\'date\\': \\'2024-02-12\\', \\'medication\\': \\'Atorvastatin PO\\', \\'dose\\': \\'20 mg\\', \\'frequency\\': \\'Nightly\\'}, {\\'date\\': \\'2024-02-13\\', \\'medication\\': \\'Amoxicillin PO\\', \\'dose\\': \\'250 mg\\', \\'frequency\\': \\'Daily\\'}, {\\'date\\': \\'2024-02-13\\', \\'medication\\': \\'Atorvastatin PO\\', \\'dose\\': \\'20 mg\\', \\'frequency\\': \\'Nightly\\'}], \\'notes\\': [{\\'date\\': \\'2024-02-10\\', \\'author\\': \\'Dr. Smith\\', \\'note_type\\': \\'Admission Note\\', \\'content\\': \\'Patient admitted with symptoms indicative of pneumonia. Initiated empirical antibiotic therapy.\\'}, {\\'date\\': \\'2024-02-11\\', \\'author\\': \\'Dr. Smith\\', \\'note_type\\': \\'Ward Round Note\\', \\'content\\': \\'Patient shows signs of improvement. CRP levels declining. Continue with current antibiotic regimen. Monitor for any adverse reactions.\\'}, {\\'date\\': \\'2024-02-12\\', \\'author\\': \\'Dr. Smith\\', \\'note_type\\': \\'Ward Round Note\\', \\'content\\': \"Patient\\'s temperature normalized. Oxygen saturation levels stable. Plan to switch to oral antibiotics tomorrow.\"}, {\\'date\\': \\'2024-02-13\\', \\'author\\': \\'Dr. Smith\\', \\'note_type\\': \\'Ward Round Note\\', \\'content\\': \\'Patient continues to improve. CRP and WBC trending down. Ready for discharge planning.\\'}, {\\'date\\': \\'2024-02-14\\', \\'author\\': \\'Dr. Smith\\', \\'note_type\\': \\'Discharge Summary\\', \\'content\\': \"Patient\\'s condition improved with treatment. Medically fit for discharge. Home with instructions for oral antibiotics for 5 more days. Follow-up in outpatient clinic in two weeks.\"}]}\\n                '}\n",
            "INFO:logger:A: Yes\n"
          ]
        },
        {
          "output_type": "stream",
          "name": "stdout",
          "text": [
            "Yes\n"
          ]
        }
      ]
    },
    {
      "cell_type": "code",
      "source": [
        "additional_prompts='Focus on precision and minimize any assumptions or hallucinations not directly supported by the data. Do not display the step number in the output.'\n",
        "print(generate_patient_summary(llm_patient_data,additional_prompts,instructions))"
      ],
      "metadata": {
        "id": "pmvWQodGcCcG",
        "outputId": "31eb4d40-258f-4d3d-bb8b-5509f6c59292",
        "colab": {
          "base_uri": "https://localhost:8080/"
        }
      },
      "execution_count": 33,
      "outputs": [
        {
          "output_type": "stream",
          "name": "stderr",
          "text": [
            "INFO:logger:Q: {'role': 'user', 'content': '\\n                              You are a physician writing a discharge letter for a patient. Use patient data from context only. Minimize hallucinations.\\n                              Focus on precision and minimize any assumptions or hallucinations not directly supported by the data. Do not display the step number in the output.\\n                              Write the output in this format: Step 1\\nPatient Identification: Begin by filling in the patient\\'s essential information, like age, sex, and date of birth.\\n\\nStep 2\\nAdmission and Discharge Dates: Include the dates the patient was admitted and discharged.\\n\\nStep 3\\nReason for Admission: Detail the primary diagnosis or condition that necessitated hospitalization.\\n\\nStep 4 \\nPast Medical History:Important concurrent diagnoses (e.g., CHF with specific ejection fraction, history of myocardial infarctions, significant lesions, HIV status)\\n\\nStep 5\\nProcedures Performed: Describe any surgical or non-surgical procedures done during the hospital stay.\\n\\nStep 6\\nMedications Prescribed: List the medications prescribed to the patient at discharge, including dosages and frequency.\\n\\nStep 7\\nPatient\\'s Condition at Discharge: Provide a summary of the patient\\'s health status at discharge.\\n\\nStep 8\\nFollow-up Care Instructions: Offer detailed instructions for post-hospital care, including medications, dietary restrictions, physical activity recommendations, and future appointments.\\n\\nStep 9\\nHospital Stay Summary: Summarize the patient\\'s course of care during hospitalization, from symptoms and diagnoses to treatments and patient responses.\\n                              Example: \\n                              Data: {\\'patient_demographics\\': {\\'age\\': 70, \\'gender\\': \\'Male\\', \\'admission_date\\': \\'2024-02-10\\', \\'discharge_date\\': \\'2024-02-14\\'}, \\'diagnoses\\': [{\\'date\\': \\'2024-02-10\\', \\'diagnosis_code\\': \\'J18.1\\', \\'description\\': \\'Lobar pneumonia, unspecified organism\\'}], \\'drg\\': {\\'code\\': \\'193\\', \\'description\\': \\'Simple pneumonia and pleurisy with MCC\\'}, \\'encounters\\': [{\\'date\\': \\'2024-02-10\\', \\'type\\': \\'Admission\\', \\'reason\\': \\'Cough, shortness of breath, hemoptysis, fever\\'}, {\\'date\\': \\'2024-02-14\\', \\'type\\': \\'Discharge\\'}], \\'flowsheets\\': [{\\'date\\': \\'2024-02-10\\', \\'time\\': \\'08:00\\', \\'temperature\\': \\'38.5°C\\', \\'heart_rate\\': \\'90 bpm\\', \\'blood_pressure\\': \\'130/85 mmHg\\', \\'respiratory_rate\\': \\'20 breaths/min\\', \\'oxygen_saturation\\': \\'92%\\'}, {\\'date\\': \\'2024-02-11\\', \\'time\\': \\'08:00\\', \\'temperature\\': \\'37.8°C\\', \\'heart_rate\\': \\'85 bpm\\', \\'blood_pressure\\': \\'125/80 mmHg\\', \\'respiratory_rate\\': \\'18 breaths/min\\', \\'oxygen_saturation\\': \\'94%\\'}, {\\'date\\': \\'2024-02-12\\', \\'time\\': \\'08:00\\', \\'temperature\\': \\'37°C\\', \\'heart_rate\\': \\'80 bpm\\', \\'blood_pressure\\': \\'120/75 mmHg\\', \\'respiratory_rate\\': \\'16 breaths/min\\', \\'oxygen_saturation\\': \\'96%\\'}, {\\'date\\': \\'2024-02-13\\', \\'time\\': \\'08:00\\', \\'temperature\\': \\'36.5°C\\', \\'heart_rate\\': \\'78 bpm\\', \\'blood_pressure\\': \\'118/74 mmHg\\', \\'respiratory_rate\\': \\'14 breaths/min\\', \\'oxygen_saturation\\': \\'98%\\'}], \\'imaging\\': [{\\'date\\': \\'2024-02-10\\', \\'type\\': \\'Chest X-Ray\\', \\'findings\\': \\'Consolidation in left lower lobe\\'}], \\'labs\\': [{\\'date\\': \\'2024-02-10\\', \\'tests\\': [{\\'name\\': \\'CRP\\', \\'result\\': \\'60 mg/L\\'}, {\\'name\\': \\'WBC\\', \\'result\\': \\'12 x10^9/L\\'}, {\\'name\\': \\'Hemoglobin\\', \\'result\\': \\'13.5 g/dL\\'}, {\\'name\\': \\'Platelets\\', \\'result\\': \\'250 x10^9/L\\'}]}, {\\'date\\': \\'2024-02-11\\', \\'tests\\': [{\\'name\\': \\'CRP\\', \\'result\\': \\'50 mg/L\\'}, {\\'name\\': \\'WBC\\', \\'result\\': \\'11 x10^9/L\\'}, {\\'name\\': \\'Hemoglobin\\', \\'result\\': \\'13.3 g/dL\\'}, {\\'name\\': \\'Platelets\\', \\'result\\': \\'245 x10^9/L\\'}]}, {\\'date\\': \\'2024-02-12\\', \\'tests\\': [{\\'name\\': \\'CRP\\', \\'result\\': \\'35 mg/L\\'}, {\\'name\\': \\'WBC\\', \\'result\\': \\'9 x10^9/L\\'}, {\\'name\\': \\'Hemoglobin\\', \\'result\\': \\'13.1 g/dL\\'}, {\\'name\\': \\'Platelets\\', \\'result\\': \\'240 x10^9/L\\'}]}, {\\'date\\': \\'2024-02-13\\', \\'tests\\': [{\\'name\\': \\'CRP\\', \\'result\\': \\'20 mg/L\\'}, {\\'name\\': \\'WBC\\', \\'result\\': \\'7 x10^9/L\\'}, {\\'name\\': \\'Hemoglobin\\', \\'result\\': \\'13 g/dL\\'}, {\\'name\\': \\'Platelets\\', \\'result\\': \\'238 x10^9/L\\'}]}], \\'med_orders\\': [{\\'date\\': \\'2024-02-10\\', \\'medication\\': \\'Amoxicillin IV\\', \\'dose\\': \\'500 mg\\', \\'frequency\\': \\'8 hourly\\'}, {\\'date\\': \\'2024-02-10\\', \\'medication\\': \\'Paracetamol\\', \\'dose\\': \\'PRN\\'}, {\\'date\\': \\'2024-02-11\\', \\'medication\\': \\'Amoxicillin IV\\', \\'dose\\': \\'250 mg\\', \\'frequency\\': \\'Daily\\'}, {\\'date\\': \\'2024-02-11\\', \\'medication\\': \\'Atorvastatin PO\\', \\'dose\\': \\'20 mg\\', \\'frequency\\': \\'Nightly\\'}, {\\'date\\': \\'2024-02-12\\', \\'medication\\': \\'Amoxicillin IV\\', \\'dose\\': \\'250 mg\\', \\'frequency\\': \\'Daily\\'}, {\\'date\\': \\'2024-02-12\\', \\'medication\\': \\'Atorvastatin PO\\', \\'dose\\': \\'20 mg\\', \\'frequency\\': \\'Nightly\\'}, {\\'date\\': \\'2024-02-13\\', \\'medication\\': \\'Amoxicillin PO\\', \\'dose\\': \\'250 mg\\', \\'frequency\\': \\'Daily\\'}, {\\'date\\': \\'2024-02-13\\', \\'medication\\': \\'Atorvastatin PO\\', \\'dose\\': \\'20 mg\\', \\'frequency\\': \\'Nightly\\'}], \\'notes\\': [{\\'date\\': \\'2024-02-10\\', \\'author\\': \\'Dr. Smith\\', \\'note_type\\': \\'Admission Note\\', \\'content\\': \\'Patient admitted with symptoms indicative of pneumonia. Initiated empirical antibiotic therapy.\\'}, {\\'date\\': \\'2024-02-11\\', \\'author\\': \\'Dr. Smith\\', \\'note_type\\': \\'Ward Round Note\\', \\'content\\': \\'Patient shows signs of improvement. CRP levels declining. Continue with current antibiotic regimen. Monitor for any adverse reactions.\\'}, {\\'date\\': \\'2024-02-12\\', \\'author\\': \\'Dr. Smith\\', \\'note_type\\': \\'Ward Round Note\\', \\'content\\': \"Patient\\'s temperature normalized. Oxygen saturation levels stable. Plan to switch to oral antibiotics tomorrow.\"}, {\\'date\\': \\'2024-02-13\\', \\'author\\': \\'Dr. Smith\\', \\'note_type\\': \\'Ward Round Note\\', \\'content\\': \\'Patient continues to improve. CRP and WBC trending down. Ready for discharge planning.\\'}, {\\'date\\': \\'2024-02-14\\', \\'author\\': \\'Dr. Smith\\', \\'note_type\\': \\'Discharge Summary\\', \\'content\\': \"Patient\\'s condition improved with treatment. Medically fit for discharge. Home with instructions for oral antibiotics for 5 more days. Follow-up in outpatient clinic in two weeks.\"}]}\\n                '}\n",
            "INFO:logger:A: Patient Identification: \n",
            "- Age: 70\n",
            "- Gender: Male\n",
            "\n",
            "Admission and Discharge Dates: \n",
            "- Admission Date: 2024-02-10\n",
            "- Discharge Date: 2024-02-14\n",
            "\n",
            "Reason for Admission: \n",
            "- Diagnosis: Lobar pneumonia, unspecified organism\n",
            "\n",
            "Past Medical History: \n",
            "- No specific information provided\n",
            "\n",
            "Procedures Performed: \n",
            "- No specific procedures mentioned\n",
            "\n",
            "Medications Prescribed at Discharge: \n",
            "- Amoxicillin PO 250 mg daily\n",
            "- Atorvastatin PO 20 mg nightly\n",
            "\n",
            "Patient's Condition at Discharge: \n",
            "- Improved and medically fit for discharge\n",
            "\n",
            "Follow-up Care Instructions:\n",
            "- Take oral antibiotics for 5 more days\n",
            "- Follow-up in outpatient clinic in two weeks\n",
            "\n",
            "Hospital Stay Summary: \n",
            "- Admitted with symptoms indicative of pneumonia\n",
            "- Responded well to empirical antibiotic therapy\n",
            "- Signs of improvement noted throughout the hospital stay\n",
            "- Temperature normalized, oxygen saturation stable\n",
            "- Continued improvement in CRP and WBC levels\n",
            "- Discharged with oral antibiotics for further treatment.\n"
          ]
        },
        {
          "output_type": "stream",
          "name": "stdout",
          "text": [
            "Patient Identification: \n",
            "- Age: 70\n",
            "- Gender: Male\n",
            "\n",
            "Admission and Discharge Dates: \n",
            "- Admission Date: 2024-02-10\n",
            "- Discharge Date: 2024-02-14\n",
            "\n",
            "Reason for Admission: \n",
            "- Diagnosis: Lobar pneumonia, unspecified organism\n",
            "\n",
            "Past Medical History: \n",
            "- No specific information provided\n",
            "\n",
            "Procedures Performed: \n",
            "- No specific procedures mentioned\n",
            "\n",
            "Medications Prescribed at Discharge: \n",
            "- Amoxicillin PO 250 mg daily\n",
            "- Atorvastatin PO 20 mg nightly\n",
            "\n",
            "Patient's Condition at Discharge: \n",
            "- Improved and medically fit for discharge\n",
            "\n",
            "Follow-up Care Instructions:\n",
            "- Take oral antibiotics for 5 more days\n",
            "- Follow-up in outpatient clinic in two weeks\n",
            "\n",
            "Hospital Stay Summary: \n",
            "- Admitted with symptoms indicative of pneumonia\n",
            "- Responded well to empirical antibiotic therapy\n",
            "- Signs of improvement noted throughout the hospital stay\n",
            "- Temperature normalized, oxygen saturation stable\n",
            "- Continued improvement in CRP and WBC levels\n",
            "- Discharged with oral antibiotics for further treatment.\n"
          ]
        }
      ]
    },
    {
      "cell_type": "markdown",
      "source": [
        "# RAG"
      ],
      "metadata": {
        "id": "y9BLujw8J7_D"
      }
    },
    {
      "cell_type": "code",
      "source": [
        "def generate_rag_query(patient_data):\n",
        "    # Initialize the OpenAI client with your API key\n",
        "    client = OpenAI(api_key=openai_api_key)\n",
        "\n",
        "    message = {\n",
        "                \"role\": \"user\",\n",
        "                \"content\": f\"\"\"\n",
        "                              Suppose you are a physician writing a discharge letter for a patient. You will include a short paragraph explaning the disease for the patient.\n",
        "                              You will use the Unified Medical Language System (UMLS) for retrieval augmented generation.\n",
        "                              Based on the patient data, generate a query for the UMLS.\n",
        "                              Write the output in this format: one word for the disease\n",
        "                              Example: Diabete\n",
        "                              Data: {patient_data}\n",
        "                \"\"\",\n",
        "    }\n",
        "\n",
        "    # Create the chat completion request with the patient data\n",
        "    chat_completion = client.chat.completions.create(\n",
        "        messages=[\n",
        "          message\n",
        "        ],\n",
        "        model=\"gpt-3.5-turbo\",\n",
        "    )\n",
        "    result = chat_completion.choices[0].message.content\n",
        "    logger.info(f'Q: {message}')\n",
        "    logger.info(f'A: {result}')\n",
        "    # Return the content of the generated message\n",
        "    return result"
      ],
      "metadata": {
        "id": "0FAVSnLyJ_0i"
      },
      "execution_count": 21,
      "outputs": []
    },
    {
      "cell_type": "code",
      "source": [
        "import requests\n",
        "\n",
        "def search_umls(term, api_key):\n",
        "    search_url = f\"https://uts-ws.nlm.nih.gov/rest/search/current\"\n",
        "    params = {\n",
        "        'apiKey': api_key,\n",
        "        'string':f'{term}'\n",
        "    }\n",
        "    response = requests.get(search_url, params=params)\n",
        "    logger.info(f'Search UMLS: term: {term}')\n",
        "    return response.json()\n",
        "\n",
        "api_key = umls_api_key"
      ],
      "metadata": {
        "id": "k_j5qSu_I6BN"
      },
      "execution_count": 22,
      "outputs": []
    },
    {
      "cell_type": "code",
      "source": [
        "def get_concept_definition(cui, api_key):\n",
        "    \"\"\"Get the concept definition using the CUI and service ticket.\"\"\"\n",
        "    api_url = f\"https://uts-ws.nlm.nih.gov/rest/content/current/CUI/{cui}/definitions\"\n",
        "    params = {\n",
        "        'apiKey': api_key,\n",
        "    }\n",
        "    response = requests.get(api_url, params=params)\n",
        "    logger.info(f'''\n",
        "    Get Concept Definition: cui: {cui}\n",
        "    Response: {response.json()}\n",
        "                ''')\n",
        "    return response.json()"
      ],
      "metadata": {
        "id": "4kACYJr7J4dM"
      },
      "execution_count": 23,
      "outputs": []
    },
    {
      "cell_type": "code",
      "source": [
        "def generate_rag_explanation(patient_data,umls):\n",
        "    # Initialize the OpenAI client with your API key\n",
        "    client = OpenAI(api_key=openai_api_key)\n",
        "\n",
        "    message =   {\n",
        "                \"role\": \"user\",\n",
        "                \"content\": f\"\"\"\n",
        "                              Suppose you are a physician writing a discharge letter for a patient. You will include a short paragraph explaning the disease for the patient.\n",
        "                              You will use the Unified Medical Language System (UMLS) for retrieval augmented generation.\n",
        "                              Based on the patient data and retrieved UMLS results, generate a brief explanation (100-200 words) of the disease for the patient.\n",
        "                              Do not use unnecessary medical terminology to ensure the patient can understand the disease.\n",
        "                              Data: {patient_data}\n",
        "                              UMLS result: {umls}\n",
        "                              Format:\n",
        "                                Terminology:\n",
        "                                Explanation:\n",
        "                \"\"\",\n",
        "    }\n",
        "    # Create the chat completion request with the patient data\n",
        "    chat_completion = client.chat.completions.create(\n",
        "        messages=[\n",
        "          message\n",
        "        ],\n",
        "        model=\"gpt-3.5-turbo\",\n",
        "    )\n",
        "    result = chat_completion.choices[0].message.content\n",
        "    logger.info(f'Q: {message}')\n",
        "    logger.info(f'A: {result}')\n",
        "    # Return the content of the generated message\n",
        "    return result"
      ],
      "metadata": {
        "id": "wC5HJQH9KhBq"
      },
      "execution_count": 24,
      "outputs": []
    },
    {
      "cell_type": "code",
      "source": [
        "query = generate_rag_query(llm_patient_data)\n",
        "print(query)"
      ],
      "metadata": {
        "colab": {
          "base_uri": "https://localhost:8080/"
        },
        "id": "PclOArxBHs1M",
        "outputId": "0d62d659-1885-43fc-e0b0-a4c7cac8581d"
      },
      "execution_count": 25,
      "outputs": [
        {
          "output_type": "stream",
          "name": "stderr",
          "text": [
            "INFO:logger:Q: {'role': 'user', 'content': '\\n                              Suppose you are a physician writing a discharge letter for a patient. You will include a short paragraph explaning the disease for the patient.\\n                              You will use the Unified Medical Language System (UMLS) for retrieval augmented generation.\\n                              Based on the patient data, generate a query for the UMLS.\\n                              Write the output in this format: one word for the disease\\n                              Example: Diabete\\n                              Data: {\\'patient_demographics\\': {\\'age\\': 70, \\'gender\\': \\'Male\\', \\'admission_date\\': \\'2024-02-10\\', \\'discharge_date\\': \\'2024-02-14\\'}, \\'diagnoses\\': [{\\'date\\': \\'2024-02-10\\', \\'diagnosis_code\\': \\'J18.1\\', \\'description\\': \\'Lobar pneumonia, unspecified organism\\'}], \\'drg\\': {\\'code\\': \\'193\\', \\'description\\': \\'Simple pneumonia and pleurisy with MCC\\'}, \\'encounters\\': [{\\'date\\': \\'2024-02-10\\', \\'type\\': \\'Admission\\', \\'reason\\': \\'Cough, shortness of breath, hemoptysis, fever\\'}, {\\'date\\': \\'2024-02-14\\', \\'type\\': \\'Discharge\\'}], \\'flowsheets\\': [{\\'date\\': \\'2024-02-10\\', \\'time\\': \\'08:00\\', \\'temperature\\': \\'38.5°C\\', \\'heart_rate\\': \\'90 bpm\\', \\'blood_pressure\\': \\'130/85 mmHg\\', \\'respiratory_rate\\': \\'20 breaths/min\\', \\'oxygen_saturation\\': \\'92%\\'}, {\\'date\\': \\'2024-02-11\\', \\'time\\': \\'08:00\\', \\'temperature\\': \\'37.8°C\\', \\'heart_rate\\': \\'85 bpm\\', \\'blood_pressure\\': \\'125/80 mmHg\\', \\'respiratory_rate\\': \\'18 breaths/min\\', \\'oxygen_saturation\\': \\'94%\\'}, {\\'date\\': \\'2024-02-12\\', \\'time\\': \\'08:00\\', \\'temperature\\': \\'37°C\\', \\'heart_rate\\': \\'80 bpm\\', \\'blood_pressure\\': \\'120/75 mmHg\\', \\'respiratory_rate\\': \\'16 breaths/min\\', \\'oxygen_saturation\\': \\'96%\\'}, {\\'date\\': \\'2024-02-13\\', \\'time\\': \\'08:00\\', \\'temperature\\': \\'36.5°C\\', \\'heart_rate\\': \\'78 bpm\\', \\'blood_pressure\\': \\'118/74 mmHg\\', \\'respiratory_rate\\': \\'14 breaths/min\\', \\'oxygen_saturation\\': \\'98%\\'}], \\'imaging\\': [{\\'date\\': \\'2024-02-10\\', \\'type\\': \\'Chest X-Ray\\', \\'findings\\': \\'Consolidation in left lower lobe\\'}], \\'labs\\': [{\\'date\\': \\'2024-02-10\\', \\'tests\\': [{\\'name\\': \\'CRP\\', \\'result\\': \\'60 mg/L\\'}, {\\'name\\': \\'WBC\\', \\'result\\': \\'12 x10^9/L\\'}, {\\'name\\': \\'Hemoglobin\\', \\'result\\': \\'13.5 g/dL\\'}, {\\'name\\': \\'Platelets\\', \\'result\\': \\'250 x10^9/L\\'}]}, {\\'date\\': \\'2024-02-11\\', \\'tests\\': [{\\'name\\': \\'CRP\\', \\'result\\': \\'50 mg/L\\'}, {\\'name\\': \\'WBC\\', \\'result\\': \\'11 x10^9/L\\'}, {\\'name\\': \\'Hemoglobin\\', \\'result\\': \\'13.3 g/dL\\'}, {\\'name\\': \\'Platelets\\', \\'result\\': \\'245 x10^9/L\\'}]}, {\\'date\\': \\'2024-02-12\\', \\'tests\\': [{\\'name\\': \\'CRP\\', \\'result\\': \\'35 mg/L\\'}, {\\'name\\': \\'WBC\\', \\'result\\': \\'9 x10^9/L\\'}, {\\'name\\': \\'Hemoglobin\\', \\'result\\': \\'13.1 g/dL\\'}, {\\'name\\': \\'Platelets\\', \\'result\\': \\'240 x10^9/L\\'}]}, {\\'date\\': \\'2024-02-13\\', \\'tests\\': [{\\'name\\': \\'CRP\\', \\'result\\': \\'20 mg/L\\'}, {\\'name\\': \\'WBC\\', \\'result\\': \\'7 x10^9/L\\'}, {\\'name\\': \\'Hemoglobin\\', \\'result\\': \\'13 g/dL\\'}, {\\'name\\': \\'Platelets\\', \\'result\\': \\'238 x10^9/L\\'}]}], \\'med_orders\\': [{\\'date\\': \\'2024-02-10\\', \\'medication\\': \\'Amoxicillin IV\\', \\'dose\\': \\'500 mg\\', \\'frequency\\': \\'8 hourly\\'}, {\\'date\\': \\'2024-02-10\\', \\'medication\\': \\'Paracetamol\\', \\'dose\\': \\'PRN\\'}, {\\'date\\': \\'2024-02-11\\', \\'medication\\': \\'Amoxicillin IV\\', \\'dose\\': \\'250 mg\\', \\'frequency\\': \\'Daily\\'}, {\\'date\\': \\'2024-02-11\\', \\'medication\\': \\'Atorvastatin PO\\', \\'dose\\': \\'20 mg\\', \\'frequency\\': \\'Nightly\\'}, {\\'date\\': \\'2024-02-12\\', \\'medication\\': \\'Amoxicillin IV\\', \\'dose\\': \\'250 mg\\', \\'frequency\\': \\'Daily\\'}, {\\'date\\': \\'2024-02-12\\', \\'medication\\': \\'Atorvastatin PO\\', \\'dose\\': \\'20 mg\\', \\'frequency\\': \\'Nightly\\'}, {\\'date\\': \\'2024-02-13\\', \\'medication\\': \\'Amoxicillin PO\\', \\'dose\\': \\'250 mg\\', \\'frequency\\': \\'Daily\\'}, {\\'date\\': \\'2024-02-13\\', \\'medication\\': \\'Atorvastatin PO\\', \\'dose\\': \\'20 mg\\', \\'frequency\\': \\'Nightly\\'}], \\'notes\\': [{\\'date\\': \\'2024-02-10\\', \\'author\\': \\'Dr. Smith\\', \\'note_type\\': \\'Admission Note\\', \\'content\\': \\'Patient admitted with symptoms indicative of pneumonia. Initiated empirical antibiotic therapy.\\'}, {\\'date\\': \\'2024-02-11\\', \\'author\\': \\'Dr. Smith\\', \\'note_type\\': \\'Ward Round Note\\', \\'content\\': \\'Patient shows signs of improvement. CRP levels declining. Continue with current antibiotic regimen. Monitor for any adverse reactions.\\'}, {\\'date\\': \\'2024-02-12\\', \\'author\\': \\'Dr. Smith\\', \\'note_type\\': \\'Ward Round Note\\', \\'content\\': \"Patient\\'s temperature normalized. Oxygen saturation levels stable. Plan to switch to oral antibiotics tomorrow.\"}, {\\'date\\': \\'2024-02-13\\', \\'author\\': \\'Dr. Smith\\', \\'note_type\\': \\'Ward Round Note\\', \\'content\\': \\'Patient continues to improve. CRP and WBC trending down. Ready for discharge planning.\\'}, {\\'date\\': \\'2024-02-14\\', \\'author\\': \\'Dr. Smith\\', \\'note_type\\': \\'Discharge Summary\\', \\'content\\': \"Patient\\'s condition improved with treatment. Medically fit for discharge. Home with instructions for oral antibiotics for 5 more days. Follow-up in outpatient clinic in two weeks.\"}]}\\n                '}\n",
            "INFO:logger:A: Query: lobar pneumonia\n"
          ]
        },
        {
          "output_type": "stream",
          "name": "stdout",
          "text": [
            "Query: lobar pneumonia\n"
          ]
        }
      ]
    },
    {
      "cell_type": "code",
      "source": [
        "results = search_umls(query, api_key)\n",
        "print(results)\n",
        "cui = None\n",
        "if results['result']['results']:\n",
        "  cui = results['result']['results'][0]['ui']\n",
        "print(cui)"
      ],
      "metadata": {
        "colab": {
          "base_uri": "https://localhost:8080/"
        },
        "id": "hErTzBc78LqW",
        "outputId": "7073a7ca-612c-42ce-819c-d9d55e0cef53"
      },
      "execution_count": 26,
      "outputs": [
        {
          "output_type": "stream",
          "name": "stderr",
          "text": [
            "INFO:logger:Search UMLS: term: Query: lobar pneumonia\n"
          ]
        },
        {
          "output_type": "stream",
          "name": "stdout",
          "text": [
            "{'pageSize': 25, 'pageNumber': 1, 'result': {'classType': 'searchResults', 'results': [], 'recCount': 0}, 'partialSearch': 'https://uts-ws.nlm.nih.gov/rest/search/current?string=Query%3A%20lobar%20pneumonia&partialSearch=true'}\n",
            "None\n"
          ]
        }
      ]
    },
    {
      "cell_type": "code",
      "source": [
        "if cui:\n",
        "  results = get_concept_definition(cui, api_key)\n",
        "  print(results)\n",
        "definition = results['result']"
      ],
      "metadata": {
        "id": "xH-aQ7waAZ1Y"
      },
      "execution_count": 27,
      "outputs": []
    },
    {
      "cell_type": "code",
      "source": [
        "print(generate_rag_explanation(llm_patient_data,definition))"
      ],
      "metadata": {
        "id": "eBzZOGFkbqFV",
        "colab": {
          "base_uri": "https://localhost:8080/"
        },
        "outputId": "ba719b8c-761e-4172-90aa-04e39af78b1b"
      },
      "execution_count": 28,
      "outputs": [
        {
          "output_type": "stream",
          "name": "stderr",
          "text": [
            "INFO:logger:Q: {'role': 'user', 'content': '\\n                              Suppose you are a physician writing a discharge letter for a patient. You will include a short paragraph explaning the disease for the patient.\\n                              You will use the Unified Medical Language System (UMLS) for retrieval augmented generation.\\n                              Based on the patient data and retrieved UMLS results, generate a brief explanation (100-200 words) of the disease for the patient.\\n                              Do not use unnecessary medical terminology to ensure the patient can understand the disease.\\n                              Data: {\\'patient_demographics\\': {\\'age\\': 70, \\'gender\\': \\'Male\\', \\'admission_date\\': \\'2024-02-10\\', \\'discharge_date\\': \\'2024-02-14\\'}, \\'diagnoses\\': [{\\'date\\': \\'2024-02-10\\', \\'diagnosis_code\\': \\'J18.1\\', \\'description\\': \\'Lobar pneumonia, unspecified organism\\'}], \\'drg\\': {\\'code\\': \\'193\\', \\'description\\': \\'Simple pneumonia and pleurisy with MCC\\'}, \\'encounters\\': [{\\'date\\': \\'2024-02-10\\', \\'type\\': \\'Admission\\', \\'reason\\': \\'Cough, shortness of breath, hemoptysis, fever\\'}, {\\'date\\': \\'2024-02-14\\', \\'type\\': \\'Discharge\\'}], \\'flowsheets\\': [{\\'date\\': \\'2024-02-10\\', \\'time\\': \\'08:00\\', \\'temperature\\': \\'38.5°C\\', \\'heart_rate\\': \\'90 bpm\\', \\'blood_pressure\\': \\'130/85 mmHg\\', \\'respiratory_rate\\': \\'20 breaths/min\\', \\'oxygen_saturation\\': \\'92%\\'}, {\\'date\\': \\'2024-02-11\\', \\'time\\': \\'08:00\\', \\'temperature\\': \\'37.8°C\\', \\'heart_rate\\': \\'85 bpm\\', \\'blood_pressure\\': \\'125/80 mmHg\\', \\'respiratory_rate\\': \\'18 breaths/min\\', \\'oxygen_saturation\\': \\'94%\\'}, {\\'date\\': \\'2024-02-12\\', \\'time\\': \\'08:00\\', \\'temperature\\': \\'37°C\\', \\'heart_rate\\': \\'80 bpm\\', \\'blood_pressure\\': \\'120/75 mmHg\\', \\'respiratory_rate\\': \\'16 breaths/min\\', \\'oxygen_saturation\\': \\'96%\\'}, {\\'date\\': \\'2024-02-13\\', \\'time\\': \\'08:00\\', \\'temperature\\': \\'36.5°C\\', \\'heart_rate\\': \\'78 bpm\\', \\'blood_pressure\\': \\'118/74 mmHg\\', \\'respiratory_rate\\': \\'14 breaths/min\\', \\'oxygen_saturation\\': \\'98%\\'}], \\'imaging\\': [{\\'date\\': \\'2024-02-10\\', \\'type\\': \\'Chest X-Ray\\', \\'findings\\': \\'Consolidation in left lower lobe\\'}], \\'labs\\': [{\\'date\\': \\'2024-02-10\\', \\'tests\\': [{\\'name\\': \\'CRP\\', \\'result\\': \\'60 mg/L\\'}, {\\'name\\': \\'WBC\\', \\'result\\': \\'12 x10^9/L\\'}, {\\'name\\': \\'Hemoglobin\\', \\'result\\': \\'13.5 g/dL\\'}, {\\'name\\': \\'Platelets\\', \\'result\\': \\'250 x10^9/L\\'}]}, {\\'date\\': \\'2024-02-11\\', \\'tests\\': [{\\'name\\': \\'CRP\\', \\'result\\': \\'50 mg/L\\'}, {\\'name\\': \\'WBC\\', \\'result\\': \\'11 x10^9/L\\'}, {\\'name\\': \\'Hemoglobin\\', \\'result\\': \\'13.3 g/dL\\'}, {\\'name\\': \\'Platelets\\', \\'result\\': \\'245 x10^9/L\\'}]}, {\\'date\\': \\'2024-02-12\\', \\'tests\\': [{\\'name\\': \\'CRP\\', \\'result\\': \\'35 mg/L\\'}, {\\'name\\': \\'WBC\\', \\'result\\': \\'9 x10^9/L\\'}, {\\'name\\': \\'Hemoglobin\\', \\'result\\': \\'13.1 g/dL\\'}, {\\'name\\': \\'Platelets\\', \\'result\\': \\'240 x10^9/L\\'}]}, {\\'date\\': \\'2024-02-13\\', \\'tests\\': [{\\'name\\': \\'CRP\\', \\'result\\': \\'20 mg/L\\'}, {\\'name\\': \\'WBC\\', \\'result\\': \\'7 x10^9/L\\'}, {\\'name\\': \\'Hemoglobin\\', \\'result\\': \\'13 g/dL\\'}, {\\'name\\': \\'Platelets\\', \\'result\\': \\'238 x10^9/L\\'}]}], \\'med_orders\\': [{\\'date\\': \\'2024-02-10\\', \\'medication\\': \\'Amoxicillin IV\\', \\'dose\\': \\'500 mg\\', \\'frequency\\': \\'8 hourly\\'}, {\\'date\\': \\'2024-02-10\\', \\'medication\\': \\'Paracetamol\\', \\'dose\\': \\'PRN\\'}, {\\'date\\': \\'2024-02-11\\', \\'medication\\': \\'Amoxicillin IV\\', \\'dose\\': \\'250 mg\\', \\'frequency\\': \\'Daily\\'}, {\\'date\\': \\'2024-02-11\\', \\'medication\\': \\'Atorvastatin PO\\', \\'dose\\': \\'20 mg\\', \\'frequency\\': \\'Nightly\\'}, {\\'date\\': \\'2024-02-12\\', \\'medication\\': \\'Amoxicillin IV\\', \\'dose\\': \\'250 mg\\', \\'frequency\\': \\'Daily\\'}, {\\'date\\': \\'2024-02-12\\', \\'medication\\': \\'Atorvastatin PO\\', \\'dose\\': \\'20 mg\\', \\'frequency\\': \\'Nightly\\'}, {\\'date\\': \\'2024-02-13\\', \\'medication\\': \\'Amoxicillin PO\\', \\'dose\\': \\'250 mg\\', \\'frequency\\': \\'Daily\\'}, {\\'date\\': \\'2024-02-13\\', \\'medication\\': \\'Atorvastatin PO\\', \\'dose\\': \\'20 mg\\', \\'frequency\\': \\'Nightly\\'}], \\'notes\\': [{\\'date\\': \\'2024-02-10\\', \\'author\\': \\'Dr. Smith\\', \\'note_type\\': \\'Admission Note\\', \\'content\\': \\'Patient admitted with symptoms indicative of pneumonia. Initiated empirical antibiotic therapy.\\'}, {\\'date\\': \\'2024-02-11\\', \\'author\\': \\'Dr. Smith\\', \\'note_type\\': \\'Ward Round Note\\', \\'content\\': \\'Patient shows signs of improvement. CRP levels declining. Continue with current antibiotic regimen. Monitor for any adverse reactions.\\'}, {\\'date\\': \\'2024-02-12\\', \\'author\\': \\'Dr. Smith\\', \\'note_type\\': \\'Ward Round Note\\', \\'content\\': \"Patient\\'s temperature normalized. Oxygen saturation levels stable. Plan to switch to oral antibiotics tomorrow.\"}, {\\'date\\': \\'2024-02-13\\', \\'author\\': \\'Dr. Smith\\', \\'note_type\\': \\'Ward Round Note\\', \\'content\\': \\'Patient continues to improve. CRP and WBC trending down. Ready for discharge planning.\\'}, {\\'date\\': \\'2024-02-14\\', \\'author\\': \\'Dr. Smith\\', \\'note_type\\': \\'Discharge Summary\\', \\'content\\': \"Patient\\'s condition improved with treatment. Medically fit for discharge. Home with instructions for oral antibiotics for 5 more days. Follow-up in outpatient clinic in two weeks.\"}]}\\n                              UMLS result: {\\'classType\\': \\'searchResults\\', \\'results\\': [], \\'recCount\\': 0}\\n                              Format:\\n                                Terminology:\\n                                Explanation:\\n                '}\n",
            "INFO:logger:A: Terminology: Lobar pneumonia\n",
            "\n",
            "Explanation: Lobar pneumonia is a type of lung infection that primarily affects one or more lobes of the lungs. It is often caused by bacteria and can lead to symptoms such as cough, shortness of breath, fever, and chest pain. In this case, the patient was diagnosed with lobar pneumonia with unspecified organism causing the infection. Treatment typically involves antibiotics to help clear the infection and supportive care to alleviate symptoms. With proper medical management, patients can recover well from lobar pneumonia. It is important to follow the prescribed antibiotics regimen and attend follow-up appointments as advised by your healthcare provider to ensure a full recovery.\n"
          ]
        },
        {
          "output_type": "stream",
          "name": "stdout",
          "text": [
            "Terminology: Lobar pneumonia\n",
            "\n",
            "Explanation: Lobar pneumonia is a type of lung infection that primarily affects one or more lobes of the lungs. It is often caused by bacteria and can lead to symptoms such as cough, shortness of breath, fever, and chest pain. In this case, the patient was diagnosed with lobar pneumonia with unspecified organism causing the infection. Treatment typically involves antibiotics to help clear the infection and supportive care to alleviate symptoms. With proper medical management, patients can recover well from lobar pneumonia. It is important to follow the prescribed antibiotics regimen and attend follow-up appointments as advised by your healthcare provider to ensure a full recovery.\n"
          ]
        }
      ]
    },
    {
      "cell_type": "markdown",
      "source": [
        "## Close Logger"
      ],
      "metadata": {
        "id": "qFP2C-mJ5z8l"
      }
    },
    {
      "cell_type": "code",
      "source": [
        "file_handler.close()\n",
        "logger.removeHandler(file_handler)"
      ],
      "metadata": {
        "id": "0FJBaEXz52d4"
      },
      "execution_count": 29,
      "outputs": []
    },
    {
      "cell_type": "code",
      "source": [],
      "metadata": {
        "id": "F8Jeq_H956as"
      },
      "execution_count": null,
      "outputs": []
    }
  ]
}