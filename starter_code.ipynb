{
  "nbformat": 4,
  "nbformat_minor": 0,
  "metadata": {
    "colab": {
      "provenance": []
    },
    "kernelspec": {
      "name": "python3",
      "display_name": "Python 3"
    },
    "language_info": {
      "name": "python"
    }
  },
  "cells": [
    {
      "cell_type": "markdown",
      "source": [
        "# Setup"
      ],
      "metadata": {
        "id": "-T-XcTCQWZGX"
      }
    },
    {
      "cell_type": "code",
      "execution_count": 2,
      "metadata": {
        "colab": {
          "base_uri": "https://localhost:8080/"
        },
        "id": "P0pfkKTsVhaK",
        "outputId": "47cd36aa-ddd7-4799-b86b-ebeeb1568d67"
      },
      "outputs": [
        {
          "output_type": "stream",
          "name": "stdout",
          "text": [
            "Collecting openai==1.12.0\n",
            "  Downloading openai-1.12.0-py3-none-any.whl (226 kB)\n",
            "\u001b[2K     \u001b[90m━━━━━━━━━━━━━━━━━━━━━━━━━━━━━━━━━━━━━━━━\u001b[0m \u001b[32m226.7/226.7 kB\u001b[0m \u001b[31m2.0 MB/s\u001b[0m eta \u001b[36m0:00:00\u001b[0m\n",
            "\u001b[?25hRequirement already satisfied: anyio<5,>=3.5.0 in /usr/local/lib/python3.10/dist-packages (from openai==1.12.0) (3.7.1)\n",
            "Requirement already satisfied: distro<2,>=1.7.0 in /usr/lib/python3/dist-packages (from openai==1.12.0) (1.7.0)\n",
            "Collecting httpx<1,>=0.23.0 (from openai==1.12.0)\n",
            "  Downloading httpx-0.27.0-py3-none-any.whl (75 kB)\n",
            "\u001b[2K     \u001b[90m━━━━━━━━━━━━━━━━━━━━━━━━━━━━━━━━━━━━━━━━\u001b[0m \u001b[32m75.6/75.6 kB\u001b[0m \u001b[31m5.4 MB/s\u001b[0m eta \u001b[36m0:00:00\u001b[0m\n",
            "\u001b[?25hRequirement already satisfied: pydantic<3,>=1.9.0 in /usr/local/lib/python3.10/dist-packages (from openai==1.12.0) (2.6.4)\n",
            "Requirement already satisfied: sniffio in /usr/local/lib/python3.10/dist-packages (from openai==1.12.0) (1.3.1)\n",
            "Requirement already satisfied: tqdm>4 in /usr/local/lib/python3.10/dist-packages (from openai==1.12.0) (4.66.2)\n",
            "Requirement already satisfied: typing-extensions<5,>=4.7 in /usr/local/lib/python3.10/dist-packages (from openai==1.12.0) (4.10.0)\n",
            "Requirement already satisfied: idna>=2.8 in /usr/local/lib/python3.10/dist-packages (from anyio<5,>=3.5.0->openai==1.12.0) (3.6)\n",
            "Requirement already satisfied: exceptiongroup in /usr/local/lib/python3.10/dist-packages (from anyio<5,>=3.5.0->openai==1.12.0) (1.2.0)\n",
            "Requirement already satisfied: certifi in /usr/local/lib/python3.10/dist-packages (from httpx<1,>=0.23.0->openai==1.12.0) (2024.2.2)\n",
            "Collecting httpcore==1.* (from httpx<1,>=0.23.0->openai==1.12.0)\n",
            "  Downloading httpcore-1.0.5-py3-none-any.whl (77 kB)\n",
            "\u001b[2K     \u001b[90m━━━━━━━━━━━━━━━━━━━━━━━━━━━━━━━━━━━━━━━━\u001b[0m \u001b[32m77.9/77.9 kB\u001b[0m \u001b[31m3.0 MB/s\u001b[0m eta \u001b[36m0:00:00\u001b[0m\n",
            "\u001b[?25hCollecting h11<0.15,>=0.13 (from httpcore==1.*->httpx<1,>=0.23.0->openai==1.12.0)\n",
            "  Downloading h11-0.14.0-py3-none-any.whl (58 kB)\n",
            "\u001b[2K     \u001b[90m━━━━━━━━━━━━━━━━━━━━━━━━━━━━━━━━━━━━━━━━\u001b[0m \u001b[32m58.3/58.3 kB\u001b[0m \u001b[31m967.9 kB/s\u001b[0m eta \u001b[36m0:00:00\u001b[0m\n",
            "\u001b[?25hRequirement already satisfied: annotated-types>=0.4.0 in /usr/local/lib/python3.10/dist-packages (from pydantic<3,>=1.9.0->openai==1.12.0) (0.6.0)\n",
            "Requirement already satisfied: pydantic-core==2.16.3 in /usr/local/lib/python3.10/dist-packages (from pydantic<3,>=1.9.0->openai==1.12.0) (2.16.3)\n",
            "Installing collected packages: h11, httpcore, httpx, openai\n",
            "Successfully installed h11-0.14.0 httpcore-1.0.5 httpx-0.27.0 openai-1.12.0\n"
          ]
        }
      ],
      "source": [
        "pip install openai==1.12.0\n"
      ]
    },
    {
      "cell_type": "code",
      "source": [
        "import openai\n",
        "from openai import OpenAI\n",
        "\n",
        "print(openai.__version__) # version - 1.12.0\n"
      ],
      "metadata": {
        "id": "RI2VSH6HaKF-",
        "colab": {
          "base_uri": "https://localhost:8080/"
        },
        "outputId": "187e633c-8f32-40ac-bb17-c340040967f1"
      },
      "execution_count": 3,
      "outputs": [
        {
          "output_type": "stream",
          "name": "stdout",
          "text": [
            "1.12.0\n"
          ]
        }
      ]
    },
    {
      "cell_type": "code",
      "source": [
        "from google.colab import drive\n",
        "drive.mount('/content/drive/', force_remount=True)\n"
      ],
      "metadata": {
        "colab": {
          "base_uri": "https://localhost:8080/"
        },
        "id": "ZNNlB2bvWbzT",
        "outputId": "d307e5ec-6ab9-40a2-b2a3-bfb23e5f179a"
      },
      "execution_count": 4,
      "outputs": [
        {
          "output_type": "stream",
          "name": "stdout",
          "text": [
            "Mounted at /content/drive/\n"
          ]
        }
      ]
    },
    {
      "cell_type": "code",
      "source": [
        "pwd"
      ],
      "metadata": {
        "colab": {
          "base_uri": "https://localhost:8080/",
          "height": 36
        },
        "id": "k-UQTk207nSG",
        "outputId": "6435f7ee-2e5e-446b-c42f-df45d96d9579"
      },
      "execution_count": null,
      "outputs": [
        {
          "output_type": "execute_result",
          "data": {
            "text/plain": [
              "'/content'"
            ],
            "application/vnd.google.colaboratory.intrinsic+json": {
              "type": "string"
            }
          },
          "metadata": {},
          "execution_count": 1
        }
      ]
    },
    {
      "cell_type": "code",
      "source": [
        "cd /content/drive/MyDrive/"
      ],
      "metadata": {
        "colab": {
          "base_uri": "https://localhost:8080/"
        },
        "id": "0aeekn6P58Pf",
        "outputId": "8a9ec79b-7936-493d-8848-4664c628a336"
      },
      "execution_count": 5,
      "outputs": [
        {
          "output_type": "stream",
          "name": "stdout",
          "text": [
            "/content/drive/MyDrive\n"
          ]
        }
      ]
    },
    {
      "cell_type": "code",
      "source": [
        "cd 'Colab Notebooks'/'Designing Smart and Healthy Systems - Spring 2024'/HealthLLM/LLM_MVP"
      ],
      "metadata": {
        "colab": {
          "base_uri": "https://localhost:8080/"
        },
        "id": "VcHFfu5jAXl8",
        "outputId": "a56aa44e-d82f-4fe1-f551-4cb9e4f10a9b"
      },
      "execution_count": 6,
      "outputs": [
        {
          "output_type": "stream",
          "name": "stdout",
          "text": [
            "/content/drive/.shortcut-targets-by-id/1PMflFOZrgZRP9PQZZLuq7i16kKifkjSi/Designing Smart and Healthy Systems - Spring 2024/HealthLLM/LLM_MVP\n"
          ]
        }
      ]
    },
    {
      "cell_type": "code",
      "source": [
        "ls"
      ],
      "metadata": {
        "colab": {
          "base_uri": "https://localhost:8080/"
        },
        "id": "Im-3AYrr8u6J",
        "outputId": "f1225e64-e5bc-46b2-f51a-b7f3843a192b"
      },
      "execution_count": null,
      "outputs": [
        {
          "output_type": "stream",
          "name": "stdout",
          "text": [
            "credentials.json  data_2.json  data_3.json  data.json  starter_code.ipynb\n"
          ]
        }
      ]
    },
    {
      "cell_type": "markdown",
      "source": [
        "### storing real credentials.json inside a google drive folder is not secure and not best practice\n",
        "### please download the folder, create a github repo, then create a .gitignore"
      ],
      "metadata": {
        "id": "wQpX233aoinx"
      }
    },
    {
      "cell_type": "code",
      "source": [
        "ls"
      ],
      "metadata": {
        "colab": {
          "base_uri": "https://localhost:8080/"
        },
        "id": "5Nhuz633ogt5",
        "outputId": "a0ff422c-187b-448d-c02b-2c4794d1bef3"
      },
      "execution_count": 7,
      "outputs": [
        {
          "output_type": "stream",
          "name": "stdout",
          "text": [
            "credentials.json  data_2.json  data_3.json  data.json  starter_code.ipynb\n"
          ]
        }
      ]
    },
    {
      "cell_type": "markdown",
      "source": [
        "# Load data and credentials"
      ],
      "metadata": {
        "id": "YMgRdrpVXAgx"
      }
    },
    {
      "cell_type": "code",
      "source": [
        "import json\n",
        "\n",
        "# Update the path if your file is in a different location\n",
        "file_path = 'data.json'\n",
        "\n",
        "with open(file_path, 'r') as file:\n",
        "    patient_data = json.load(file)\n",
        "\n",
        "# To verify, print a part of the data\n",
        "print(patient_data['patient_demographics'])\n"
      ],
      "metadata": {
        "colab": {
          "base_uri": "https://localhost:8080/"
        },
        "id": "he226yj3VkF5",
        "outputId": "cedd964f-9423-423b-a7a3-8076e8bfebcd"
      },
      "execution_count": 8,
      "outputs": [
        {
          "output_type": "stream",
          "name": "stdout",
          "text": [
            "{'name': 'John Doe', 'age': 70, 'gender': 'Male', 'admission_date': '2024-02-10', 'discharge_date': '2024-02-14'}\n"
          ]
        }
      ]
    },
    {
      "cell_type": "code",
      "source": [
        "# You should not store API keys in a google drive folder - it is not secure. If using github, add credentials.json to .gitignore.\n",
        "\n",
        "credentials_path = '/content/credentials.json'\n",
        "\n",
        "with open(credentials_path, 'r') as file:\n",
        "    credentials = json.load(file)\n",
        "\n",
        "openai_api_key = credentials['openai_api_key']\n",
        "\n",
        "# Use the API key as needed, for example, to configure OpenAI's API client\n",
        "openai.api_key = openai_api_key\n"
      ],
      "metadata": {
        "id": "WzK0JyP6XbZK"
      },
      "execution_count": 9,
      "outputs": []
    },
    {
      "cell_type": "markdown",
      "source": [
        "# Explore data"
      ],
      "metadata": {
        "id": "Yicw--qjYd-m"
      }
    },
    {
      "cell_type": "code",
      "source": [
        "print(f'Data type: {type(patient_data)}')"
      ],
      "metadata": {
        "colab": {
          "base_uri": "https://localhost:8080/"
        },
        "id": "yeAfWIk8XmLq",
        "outputId": "04c95f88-b269-487d-fff8-74f81879a2c6"
      },
      "execution_count": 10,
      "outputs": [
        {
          "output_type": "stream",
          "name": "stdout",
          "text": [
            "Data type: <class 'dict'>\n"
          ]
        }
      ]
    },
    {
      "cell_type": "code",
      "source": [
        "print(f'Keys in data: {(patient_data.keys())}')"
      ],
      "metadata": {
        "id": "uU8OUSzUYlEA",
        "outputId": "b33c2b23-b30c-4566-edad-cf56b8f3155c",
        "colab": {
          "base_uri": "https://localhost:8080/"
        }
      },
      "execution_count": 11,
      "outputs": [
        {
          "output_type": "stream",
          "name": "stdout",
          "text": [
            "Keys in data: dict_keys(['patient_id', 'patient_demographics', 'diagnoses', 'drg', 'encounters', 'flowsheets', 'imaging', 'labs', 'med_orders', 'notes'])\n"
          ]
        }
      ]
    },
    {
      "cell_type": "code",
      "source": [
        "# Look at encounters data, there are multiple\n",
        "patient_data['encounters']"
      ],
      "metadata": {
        "id": "WxxqbxbFYrFV",
        "outputId": "9f633ae6-1e6c-47a2-fc45-1d5390e482cb",
        "colab": {
          "base_uri": "https://localhost:8080/"
        }
      },
      "execution_count": 12,
      "outputs": [
        {
          "output_type": "execute_result",
          "data": {
            "text/plain": [
              "[{'date': '2024-02-10',\n",
              "  'type': 'Admission',\n",
              "  'reason': 'Cough, shortness of breath, hemoptysis, fever'},\n",
              " {'date': '2024-02-14', 'type': 'Discharge'}]"
            ]
          },
          "metadata": {},
          "execution_count": 12
        }
      ]
    },
    {
      "cell_type": "code",
      "source": [
        "# Look at flowsheets data, there are multiple\n",
        "patient_data['flowsheets']"
      ],
      "metadata": {
        "id": "hJ4Kc6PlZFv1",
        "outputId": "accef9a6-d658-4e48-a2db-0e2fce50d0c9",
        "colab": {
          "base_uri": "https://localhost:8080/"
        }
      },
      "execution_count": 13,
      "outputs": [
        {
          "output_type": "execute_result",
          "data": {
            "text/plain": [
              "[{'date': '2024-02-10',\n",
              "  'time': '08:00',\n",
              "  'temperature': '38.5°C',\n",
              "  'heart_rate': '90 bpm',\n",
              "  'blood_pressure': '130/85 mmHg',\n",
              "  'respiratory_rate': '20 breaths/min',\n",
              "  'oxygen_saturation': '92%'},\n",
              " {'date': '2024-02-11',\n",
              "  'time': '08:00',\n",
              "  'temperature': '37.8°C',\n",
              "  'heart_rate': '85 bpm',\n",
              "  'blood_pressure': '125/80 mmHg',\n",
              "  'respiratory_rate': '18 breaths/min',\n",
              "  'oxygen_saturation': '94%'},\n",
              " {'date': '2024-02-12',\n",
              "  'time': '08:00',\n",
              "  'temperature': '37°C',\n",
              "  'heart_rate': '80 bpm',\n",
              "  'blood_pressure': '120/75 mmHg',\n",
              "  'respiratory_rate': '16 breaths/min',\n",
              "  'oxygen_saturation': '96%'},\n",
              " {'date': '2024-02-13',\n",
              "  'time': '08:00',\n",
              "  'temperature': '36.5°C',\n",
              "  'heart_rate': '78 bpm',\n",
              "  'blood_pressure': '118/74 mmHg',\n",
              "  'respiratory_rate': '14 breaths/min',\n",
              "  'oxygen_saturation': '98%'}]"
            ]
          },
          "metadata": {},
          "execution_count": 13
        }
      ]
    },
    {
      "cell_type": "code",
      "source": [
        "patient_data['notes']"
      ],
      "metadata": {
        "id": "PpHpIgzpZSDK",
        "outputId": "f888950c-7d0e-4b45-bd81-daad9c2f01d1",
        "colab": {
          "base_uri": "https://localhost:8080/"
        }
      },
      "execution_count": 14,
      "outputs": [
        {
          "output_type": "execute_result",
          "data": {
            "text/plain": [
              "[{'date': '2024-02-10',\n",
              "  'author': 'Dr. Smith',\n",
              "  'note_type': 'Admission Note',\n",
              "  'content': 'Patient admitted with symptoms indicative of pneumonia. Initiated empirical antibiotic therapy.'},\n",
              " {'date': '2024-02-11',\n",
              "  'author': 'Dr. Smith',\n",
              "  'note_type': 'Ward Round Note',\n",
              "  'content': 'Patient shows signs of improvement. CRP levels declining. Continue with current antibiotic regimen. Monitor for any adverse reactions.'},\n",
              " {'date': '2024-02-12',\n",
              "  'author': 'Dr. Smith',\n",
              "  'note_type': 'Ward Round Note',\n",
              "  'content': \"Patient's temperature normalized. Oxygen saturation levels stable. Plan to switch to oral antibiotics tomorrow.\"},\n",
              " {'date': '2024-02-13',\n",
              "  'author': 'Dr. Smith',\n",
              "  'note_type': 'Ward Round Note',\n",
              "  'content': 'Patient continues to improve. CRP and WBC trending down. Ready for discharge planning.'},\n",
              " {'date': '2024-02-14',\n",
              "  'author': 'Dr. Smith',\n",
              "  'note_type': 'Discharge Summary',\n",
              "  'content': \"Patient's condition improved with treatment. Medically fit for discharge. Home with instructions for oral antibiotics for 5 more days. Follow-up in outpatient clinic in two weeks.\"}]"
            ]
          },
          "metadata": {},
          "execution_count": 14
        }
      ]
    },
    {
      "cell_type": "markdown",
      "source": [
        "# Sample zero-shot solution\n",
        "This is a first attempt where we pass in everything and provide basic prompt engineering. This is a baseline solution. Your solutions should improve from this."
      ],
      "metadata": {
        "id": "eOMsxxnLadMZ"
      }
    },
    {
      "cell_type": "code",
      "source": [
        "client = OpenAI(api_key=openai_api_key)"
      ],
      "metadata": {
        "id": "1REJ338Bbc6y"
      },
      "execution_count": 15,
      "outputs": []
    },
    {
      "cell_type": "code",
      "source": [
        "def generate_patient_summary(patient_data, additional_prompts='', instructions=''):\n",
        "    \"\"\"\n",
        "    Generates a patient summary using OpenAI's GPT-3.5.\n",
        "\n",
        "    Parameters:\n",
        "    - patient_data (str): The patient data to generate the summary from.\n",
        "    - additional_prompts (str): Any additional prompts\n",
        "\n",
        "    Returns:\n",
        "    - str: The generated patient summary.\n",
        "    \"\"\"\n",
        "\n",
        "    # Initialize the OpenAI client with your API key\n",
        "    client = OpenAI(api_key=openai_api_key)\n",
        "\n",
        "    # Create the chat completion request with the patient data\n",
        "    chat_completion = client.chat.completions.create(\n",
        "        messages=[\n",
        "            {\n",
        "                \"role\": \"user\",\n",
        "                \"content\": f\"\"\"\n",
        "                              You are a doctor writing a discharge letter for a patient. Use patient data from context only. Minimize hallucinations.\n",
        "                              {additional_prompts}\n",
        "                              Write the output in this format {instructions}\n",
        "                              Data: {patient_data}\n",
        "                \"\"\",\n",
        "            }\n",
        "        ],\n",
        "        model=\"gpt-3.5-turbo\",\n",
        "    )\n",
        "\n",
        "    # Return the content of the generated message\n",
        "    return chat_completion.choices[0].message.content"
      ],
      "metadata": {
        "id": "Bhhzo4DTb1VX"
      },
      "execution_count": 19,
      "outputs": []
    },
    {
      "cell_type": "code",
      "source": [
        "#Instructions for a good discharge summary :\n",
        "\n",
        "# Define the path to your file\n",
        "file_path = '/content/How to write a discharge summary.txt'\n",
        "\n",
        "# Open the file using 'open()' in read mode ('r')\n",
        "with open(file_path, 'r') as file:\n",
        "    # Read the contents of the file\n",
        "    instructions = file.read()\n",
        "\n",
        "    # Print the contents\n",
        "    print(instructions)"
      ],
      "metadata": {
        "colab": {
          "base_uri": "https://localhost:8080/"
        },
        "id": "JRPkbEK3gzL3",
        "outputId": "16b1b0d9-4260-42b8-cd4a-1658fc10a1d5"
      },
      "execution_count": 18,
      "outputs": [
        {
          "output_type": "stream",
          "name": "stdout",
          "text": [
            "How to write a discharge summary\n",
            "\n",
            "General Principle:\n",
            "A discharge summary should not be too lengthy. I should however, be informative to the outpatient provider and during future admissions. \n",
            "\n",
            "Outstanding issues\n",
            "•\tLabs that need to be ordered / followed up on, either by the primary care provider or a the Nursing Home:\n",
            "o\tThe patient should have a Hct and Cr rechecked in 2 weeks\n",
            "•\tProvide Instructions to the Visiting Nurse; be specific:\n",
            "o\tPlease weigh patient every day. Call MD at xxx-xxx-xxxx if 5 lbs over y weight. \n",
            "•\tList appointments that need to be scheduled; Give MD / subspecialty and contact info. \n",
            "\n",
            "HPI\n",
            "•\tDo not copy from H&P. Instead, write a small paragraph that summarizes the reason for admission. \n",
            "\n",
            "PMHx (can copy forward from H&P if you have already put this information in previously)\n",
            "•\tGive the pertinent information along with concurrent diagnoses:\n",
            "o\tCHF (EF 30% in 4/05)\n",
            "o\tCAD with h/o 3 MI’s in 1991, 1995, 2000\n",
            "o\tCAD (70% LAD lesion diagnosed by cath at Brigham in 4/07)\n",
            "o\tHIV (CD4 317, VL < 75 in 5/07)\n",
            "\n",
            "Meds \n",
            "•\tCopy list from Logician after performing medication reconciliation\n",
            "\n",
            "Hospital Course\n",
            "•\tStart with what happened in the ED: \n",
            "o\tIn the ED, the patient’s vitals were…\n",
            "o\tIn the ED, the patient was given…\n",
            "o\tMention labs here or in the next section (mention here if the ED management was related to lab values, e.g. Kayelexlate given for hyperkalemia). It is helpful to mention baseline values if the values are abnormal or changed from previous. Initial labs were significant for_____. E.g. K 6.7, Cr 2.4 (baseline Cr 1.5-1.7), Hct 24 (baseline 30 in 4/07), BNP 967.\n",
            "o\tMention studies here or in the next section (mention here if the ED management was related to study results). Initial studies were significant for _____. CXR with bilateral pleural effusions, EKG with TWI in II, III, aVF (which were unchanged from previous.)\n",
            "•\tMove onto what happened on the floor. If patient had complicated hospital course, go by problems. Otherwise if it was a short hospitalization with only 1-2 medical issues, just describe the events in chronological order.\n",
            "o\tOn arrival to the floor, the patient’s vitals were…\n",
            "o\tPhysical exam was notable for… (only pertinents).\n",
            "o\tYou can also talk about initial labs & studies here if not already in the ED portion.\n",
            "o\tDescribe initial management. The patient was given 80 mg IV Lasix with adequate response.\n",
            "o\tDescribe continuing management. Cardiomyopathy was consulted and recommended …, which was started (or not started because ...)\n",
            "o\tFor each intervention, say how the patient responded. The patient was transfused 2 units pRBC with a resulting Hct bump to 29.6.\n",
            "o\tDescribe what you did for each of the patient’s presenting complaints, even if not related to the primary issue that the patient was hospitalized for e.g. The patient mentioned while in-house that she had fallen on her arm a week prior. Xray of left arm revealed no fractures.\n",
            "o\tAddress all abnormal labs and studies, and give working explanations.  \n",
            "o\tFor patients with recurring issues, e.g. pain control issues in sickle cell patients, it is helpful to include their specific pain regimen while inpatient, e.g.  The patient was started on morphine PCA at 2 mg/hr basal rate with 0.5 mg q15min. Pain was well-tolerated on this regimen.\n",
            "\n",
            "Discharge Condition\n",
            "•\tWrite the pertinent information you would want to know if you were the outpatient MD seeing the patient again 2 weeks after discharge.  For example:\n",
            "o\tIn hypertensive urgency, give discharge BP (or 24 hr range)\n",
            "o\tIn CHF, give discharge weight\n",
            "o\tIn COPD, give ambulatory sat\n",
            "o\tAgain, address pertinent abnormal labs and studies.  K on discharge was 4.0.\n",
            "\n"
          ]
        }
      ]
    },
    {
      "cell_type": "code",
      "source": [
        "print(generate_patient_summary(patient_data,'Make sure that you execute this piecewise in the format based on the instuctions for output format ',instructions))"
      ],
      "metadata": {
        "id": "pmvWQodGcCcG",
        "outputId": "9793b75c-6cff-4f93-c4cb-ab72c0757939",
        "colab": {
          "base_uri": "https://localhost:8080/"
        }
      },
      "execution_count": 20,
      "outputs": [
        {
          "output_type": "stream",
          "name": "stdout",
          "text": [
            "**How to write a discharge summary**\n",
            "\n",
            "**Outstanding issues:**\n",
            "- Labs that need to be ordered / followed up on: The patient should have a Hct and Cr rechecked in 2 weeks.\n",
            "- Provide Instructions to the Visiting Nurse: Please weigh the patient every day. Call MD at xxx-xxx-xxxx if 5 lbs over y weight.\n",
            "\n",
            "**HPI:**\n",
            "- Mr. John Doe, a 70-year-old male, was admitted on 10th February 2024 with symptoms of cough, shortness of breath, hemoptysis, and fever.\n",
            "\n",
            "**PMHx:**\n",
            "- CHF (EF 30% in 4/05)\n",
            "- CAD with h/o 3 MI’s in 1991, 1995, 2000\n",
            "- CAD (70% LAD lesion diagnosed by cath at Brigham in 4/07)\n",
            "- HIV (CD4 317, VL < 75 in 5/07)\n",
            "\n",
            "**Meds:** \n",
            "- Amoxicillin IV 500 mg 8 hourly\n",
            "- Paracetamol PRN\n",
            "- Atorvastatin PO 20 mg Nightly\n",
            "\n",
            "**Hospital Course:**\n",
            "- In the ED, the patient presented with a temperature of 38.5°C, CRP 60 mg/L, and consolidation in the left lower lobe on chest X-ray.\n",
            "- On the floor, the patient received IV Amoxicillin and showed improvement with decreasing CRP levels.\n",
            "\n",
            "**Discharge Condition:**\n",
            "- Discharge medications include oral antibiotics for 5 more days.\n",
            "- Follow-up appointment in outpatient clinic in two weeks.\n"
          ]
        }
      ]
    },
    {
      "cell_type": "code",
      "source": [],
      "metadata": {
        "id": "E10ces6SdHrD"
      },
      "execution_count": 20,
      "outputs": []
    },
    {
      "cell_type": "code",
      "source": [],
      "metadata": {
        "id": "dRw7sXIZdREe"
      },
      "execution_count": 20,
      "outputs": []
    },
    {
      "cell_type": "code",
      "source": [],
      "metadata": {
        "id": "Pd-ccNPO__Yp"
      },
      "execution_count": null,
      "outputs": []
    }
  ]
}